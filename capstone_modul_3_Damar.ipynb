{
 "cells": [
  {
   "cell_type": "markdown",
   "metadata": {},
   "source": [
    "# Travel Insurance\n",
    "### Created By : Muhammad Damar Yulian Prakarsa"
   ]
  },
  {
   "cell_type": "markdown",
   "metadata": {},
   "source": [
    "**Business Problem Understanding**"
   ]
  },
  {
   "cell_type": "markdown",
   "metadata": {},
   "source": [
    "**Context**  \n",
    "Asuransi perjalanan adalah jenis asuransi yang memberikan perlindungan selama kita melakukan perjalanan baik dalam negeri maupun luar negeri. Beberapa negara bahkan telah mewajibkan para pelancong untuk memiliki asuransi perjalanan, misalnya negara-negara di Eropa dan Amerika. Besarnya premi tergantung dari pertanggungan yang diinginkan, lama perjalanan, dan tujuan perjalanan. Suatu perusahaan yang bergerak di bidang asuransi perjalanan ingin mengetahui pemegang polis yang akan mengajukan klaim asuransi. Data pemegang polis pada perusahaan asuransi merupakan data historis yang terdiri dari destinasi, produk asuransi, dan sebagainya.\n",
    "\n",
    "Target :\n",
    "\n",
    "0 : Tidak Melakukan klaim asuransi\n",
    "\n",
    "1 : Melakukan klaim asuransi"
   ]
  },
  {
   "cell_type": "markdown",
   "metadata": {},
   "source": [
    "**Problem Statement :**\n",
    "\n",
    "Jika perusahaan memilih target tanpa melakukan penyaringan terlebih dahulu kemungkinan klaim asuransi tidak bisa di prediksi. Proses klaim asuransi bisa memakan sumber daya jika perusahaan salah menganalisa target. Perusahaan ingin menghindari target mana yang memiliki kemungkinan klaim polis asuransi.\n",
    "\n",
    "**Goals :**\n",
    "\n",
    "Maka berdasarkan permasalahan tersebut, perusahaan ingin memiliki kemampuan untuk memprediksi kemungkinan seorang target akan melakukan klaim atau tidak.\n",
    "\n",
    "**Analytic Approach :**\n",
    "\n",
    "Jadi yang akan kita lakukan adalah menganalisis data untuk menemukan pola yang membedakan yang melakukan klaim asuransi dan tidak.\n",
    "\n",
    "Kemudian kita akan membangun model klasifikasi yang akan membantu perusahaan untuk dapat memprediksi probabilitas seorang kandidat akan melakukan klaim asuransi atau tidak."
   ]
  },
  {
   "cell_type": "markdown",
   "metadata": {},
   "source": [
    "**Metric Evaluation**\n",
    "\n",
    "![Metric](https://txt.cohere.ai/content/images/size/w2000/2022/06/feature.png)\n",
    "\n",
    "Type 1 error : False Positive  \n",
    "Konsekuensi: Tidak mengeluarkan biaya\n",
    "\n",
    "Type 2 error : False Negative  \n",
    "Konsekuensi: Kerugian pengeluaran klaim \n",
    "\n",
    "Berdasarkan konsekuensinya, maka sebisa mungkin yang akan kita lakukan adalah membuat model yang dapat mengurangi cost dari perusahaan tersebut. Jadi kita ingin sebanyak mungkin prediksi kelas positif yang benar, dengan sesedikit mungkin prediksi false negative karena resiko kerugian pengeluaran klaim dapat membuat perusahaan mengeluarkan uang untuk membayar claim sehingga apabila kita salah memprediksi orang yang klaim sebagai yang tidak klaim, perusahaan akan mengeluarkan lebih banyak biaya. Sedangkan jika kita memprediksi client kita yang tidak claim sebagai yang claim tidak akan membuat perusahaan mengeluarkan biaya apapun. Oleh karena itu, kita lebih fokus ke metrik Recall."
   ]
  },
  {
   "cell_type": "code",
   "execution_count": 4,
   "metadata": {
    "ExecuteTime": {
     "end_time": "2023-03-13T12:57:53.220744Z",
     "start_time": "2023-03-13T12:57:52.798352Z"
    }
   },
   "outputs": [],
   "source": [
    "# Library\n",
    "\n",
    "import pandas as pd\n",
    "import numpy as np\n",
    "\n",
    "# Visualization\n",
    "import matplotlib.pyplot as plt\n",
    "import seaborn as sns\n",
    "from IPython.display import display\n",
    "\n",
    "# Feature Engineering\n",
    "from sklearn.pipeline import Pipeline\n",
    "from sklearn.impute import SimpleImputer\n",
    "from sklearn.preprocessing import OneHotEncoder, LabelEncoder, OrdinalEncoder\n",
    "from sklearn.compose import ColumnTransformer\n",
    "import category_encoders as ce\n",
    "\n",
    "# Model Selection\n",
    "from sklearn.linear_model import LogisticRegression\n",
    "from sklearn.tree import DecisionTreeClassifier\n",
    "from sklearn.model_selection import RandomizedSearchCV, GridSearchCV,StratifiedKFold,train_test_split, cross_val_score\n",
    "from sklearn.metrics import classification_report, confusion_matrix\n",
    "from sklearn.neighbors import KNeighborsClassifier\n",
    "from sklearn.ensemble import RandomForestClassifier\n",
    "from xgboost import XGBClassifier\n",
    "from sklearn.metrics import f1_score, accuracy_score, recall_score, precision_score\n",
    "\n",
    "# Imbalance Dataset\n",
    "from imblearn.pipeline import Pipeline\n",
    "from imblearn.over_sampling import RandomOverSampler, SMOTE\n",
    "from imblearn.under_sampling import RandomUnderSampler, NearMiss\n",
    "\n",
    "# Ignore Warning\n",
    "import sys\n",
    "import warnings\n",
    "if not sys.warnoptions:\n",
    "    warnings.simplefilter(\"ignore\")\n",
    "\n",
    "# Set max columns\n",
    "pd.set_option('display.max_columns', None)"
   ]
  },
  {
   "cell_type": "code",
   "execution_count": 6,
   "metadata": {
    "ExecuteTime": {
     "end_time": "2023-03-13T12:57:59.913069Z",
     "start_time": "2023-03-13T12:57:59.741981Z"
    }
   },
   "outputs": [
    {
     "data": {
      "text/html": [
       "<div>\n",
       "<style scoped>\n",
       "    .dataframe tbody tr th:only-of-type {\n",
       "        vertical-align: middle;\n",
       "    }\n",
       "\n",
       "    .dataframe tbody tr th {\n",
       "        vertical-align: top;\n",
       "    }\n",
       "\n",
       "    .dataframe thead th {\n",
       "        text-align: right;\n",
       "    }\n",
       "</style>\n",
       "<table border=\"1\" class=\"dataframe\">\n",
       "  <thead>\n",
       "    <tr style=\"text-align: right;\">\n",
       "      <th></th>\n",
       "      <th>Agency</th>\n",
       "      <th>Agency Type</th>\n",
       "      <th>Distribution Channel</th>\n",
       "      <th>Product Name</th>\n",
       "      <th>Gender</th>\n",
       "      <th>Duration</th>\n",
       "      <th>Destination</th>\n",
       "      <th>Net Sales</th>\n",
       "      <th>Commision (in value)</th>\n",
       "      <th>Age</th>\n",
       "      <th>Claim</th>\n",
       "    </tr>\n",
       "  </thead>\n",
       "  <tbody>\n",
       "    <tr>\n",
       "      <th>0</th>\n",
       "      <td>C2B</td>\n",
       "      <td>Airlines</td>\n",
       "      <td>Online</td>\n",
       "      <td>Annual Silver Plan</td>\n",
       "      <td>F</td>\n",
       "      <td>365</td>\n",
       "      <td>SINGAPORE</td>\n",
       "      <td>216.0</td>\n",
       "      <td>54.0</td>\n",
       "      <td>57</td>\n",
       "      <td>No</td>\n",
       "    </tr>\n",
       "    <tr>\n",
       "      <th>1</th>\n",
       "      <td>EPX</td>\n",
       "      <td>Travel Agency</td>\n",
       "      <td>Online</td>\n",
       "      <td>Cancellation Plan</td>\n",
       "      <td>NaN</td>\n",
       "      <td>4</td>\n",
       "      <td>MALAYSIA</td>\n",
       "      <td>10.0</td>\n",
       "      <td>0.0</td>\n",
       "      <td>33</td>\n",
       "      <td>No</td>\n",
       "    </tr>\n",
       "    <tr>\n",
       "      <th>2</th>\n",
       "      <td>JZI</td>\n",
       "      <td>Airlines</td>\n",
       "      <td>Online</td>\n",
       "      <td>Basic Plan</td>\n",
       "      <td>M</td>\n",
       "      <td>19</td>\n",
       "      <td>INDIA</td>\n",
       "      <td>22.0</td>\n",
       "      <td>7.7</td>\n",
       "      <td>26</td>\n",
       "      <td>No</td>\n",
       "    </tr>\n",
       "    <tr>\n",
       "      <th>3</th>\n",
       "      <td>EPX</td>\n",
       "      <td>Travel Agency</td>\n",
       "      <td>Online</td>\n",
       "      <td>2 way Comprehensive Plan</td>\n",
       "      <td>NaN</td>\n",
       "      <td>20</td>\n",
       "      <td>UNITED STATES</td>\n",
       "      <td>112.0</td>\n",
       "      <td>0.0</td>\n",
       "      <td>59</td>\n",
       "      <td>No</td>\n",
       "    </tr>\n",
       "    <tr>\n",
       "      <th>4</th>\n",
       "      <td>C2B</td>\n",
       "      <td>Airlines</td>\n",
       "      <td>Online</td>\n",
       "      <td>Bronze Plan</td>\n",
       "      <td>M</td>\n",
       "      <td>8</td>\n",
       "      <td>SINGAPORE</td>\n",
       "      <td>16.0</td>\n",
       "      <td>4.0</td>\n",
       "      <td>28</td>\n",
       "      <td>No</td>\n",
       "    </tr>\n",
       "  </tbody>\n",
       "</table>\n",
       "</div>"
      ],
      "text/plain": [
       "  Agency    Agency Type Distribution Channel              Product Name Gender  \\\n",
       "0    C2B       Airlines               Online        Annual Silver Plan      F   \n",
       "1    EPX  Travel Agency               Online         Cancellation Plan    NaN   \n",
       "2    JZI       Airlines               Online                Basic Plan      M   \n",
       "3    EPX  Travel Agency               Online  2 way Comprehensive Plan    NaN   \n",
       "4    C2B       Airlines               Online               Bronze Plan      M   \n",
       "\n",
       "   Duration    Destination  Net Sales  Commision (in value)  Age Claim  \n",
       "0       365      SINGAPORE      216.0                  54.0   57    No  \n",
       "1         4       MALAYSIA       10.0                   0.0   33    No  \n",
       "2        19          INDIA       22.0                   7.7   26    No  \n",
       "3        20  UNITED STATES      112.0                   0.0   59    No  \n",
       "4         8      SINGAPORE       16.0                   4.0   28    No  "
      ]
     },
     "execution_count": 6,
     "metadata": {},
     "output_type": "execute_result"
    }
   ],
   "source": [
    "#Load Dataset\n",
    "df = pd.read_csv(\"data_travel_insurance.csv\")\n",
    "df.head()"
   ]
  },
  {
   "cell_type": "markdown",
   "metadata": {},
   "source": [
    "Keterangan Kolom Dataset :\n",
    "-\tAgency : Nama agen asuransi\n",
    "-\tAgency Type : Jenis agen asuransi (airlines/penerbangan atau travel agency)\n",
    "-\tDistribution Channel : Saluran distribusi agensi (online / offline)\n",
    "-\tProduct Name : Nama produk asuransi yang dibeli\n",
    "-   Gender : jenis kelamin pemegang polis\n",
    "-\tDuration : Durasi perjalanan (hari)\n",
    "-\tDestination : Tujuan perjalanan\n",
    "-\tNet Sales : Total penjualan bersih asuransi perjalanan (jumlah penjualan kotor perusahaan dikurangi retur, tunjangan, dan diskon)\n",
    "-\tCommission (in value) : Komisi yang diterima agensi asuransi perjalanan dari perusahaan asuransi\n",
    "-\tAge : Usia pemegang polis\n",
    "-\tClaim : Status klaim asuransi"
   ]
  },
  {
   "cell_type": "markdown",
   "metadata": {},
   "source": [
    "## Data Cleaning"
   ]
  },
  {
   "cell_type": "markdown",
   "metadata": {},
   "source": [
    "### Handling Missing Value"
   ]
  },
  {
   "cell_type": "code",
   "execution_count": 7,
   "metadata": {
    "ExecuteTime": {
     "end_time": "2023-03-13T12:57:59.945336Z",
     "start_time": "2023-03-13T12:57:59.916061Z"
    }
   },
   "outputs": [
    {
     "data": {
      "text/html": [
       "<div>\n",
       "<style scoped>\n",
       "    .dataframe tbody tr th:only-of-type {\n",
       "        vertical-align: middle;\n",
       "    }\n",
       "\n",
       "    .dataframe tbody tr th {\n",
       "        vertical-align: top;\n",
       "    }\n",
       "\n",
       "    .dataframe thead th {\n",
       "        text-align: right;\n",
       "    }\n",
       "</style>\n",
       "<table border=\"1\" class=\"dataframe\">\n",
       "  <thead>\n",
       "    <tr style=\"text-align: right;\">\n",
       "      <th></th>\n",
       "      <th>Agency</th>\n",
       "      <th>Agency Type</th>\n",
       "      <th>Distribution Channel</th>\n",
       "      <th>Product Name</th>\n",
       "      <th>Duration</th>\n",
       "      <th>Destination</th>\n",
       "      <th>Net Sales</th>\n",
       "      <th>Commision (in value)</th>\n",
       "      <th>Age</th>\n",
       "      <th>Claim</th>\n",
       "    </tr>\n",
       "  </thead>\n",
       "  <tbody>\n",
       "    <tr>\n",
       "      <th>0</th>\n",
       "      <td>C2B</td>\n",
       "      <td>Airlines</td>\n",
       "      <td>Online</td>\n",
       "      <td>Annual Silver Plan</td>\n",
       "      <td>365</td>\n",
       "      <td>SINGAPORE</td>\n",
       "      <td>216.0</td>\n",
       "      <td>54.0</td>\n",
       "      <td>57</td>\n",
       "      <td>No</td>\n",
       "    </tr>\n",
       "    <tr>\n",
       "      <th>1</th>\n",
       "      <td>EPX</td>\n",
       "      <td>Travel Agency</td>\n",
       "      <td>Online</td>\n",
       "      <td>Cancellation Plan</td>\n",
       "      <td>4</td>\n",
       "      <td>MALAYSIA</td>\n",
       "      <td>10.0</td>\n",
       "      <td>0.0</td>\n",
       "      <td>33</td>\n",
       "      <td>No</td>\n",
       "    </tr>\n",
       "    <tr>\n",
       "      <th>2</th>\n",
       "      <td>JZI</td>\n",
       "      <td>Airlines</td>\n",
       "      <td>Online</td>\n",
       "      <td>Basic Plan</td>\n",
       "      <td>19</td>\n",
       "      <td>INDIA</td>\n",
       "      <td>22.0</td>\n",
       "      <td>7.7</td>\n",
       "      <td>26</td>\n",
       "      <td>No</td>\n",
       "    </tr>\n",
       "    <tr>\n",
       "      <th>3</th>\n",
       "      <td>EPX</td>\n",
       "      <td>Travel Agency</td>\n",
       "      <td>Online</td>\n",
       "      <td>2 way Comprehensive Plan</td>\n",
       "      <td>20</td>\n",
       "      <td>UNITED STATES</td>\n",
       "      <td>112.0</td>\n",
       "      <td>0.0</td>\n",
       "      <td>59</td>\n",
       "      <td>No</td>\n",
       "    </tr>\n",
       "    <tr>\n",
       "      <th>4</th>\n",
       "      <td>C2B</td>\n",
       "      <td>Airlines</td>\n",
       "      <td>Online</td>\n",
       "      <td>Bronze Plan</td>\n",
       "      <td>8</td>\n",
       "      <td>SINGAPORE</td>\n",
       "      <td>16.0</td>\n",
       "      <td>4.0</td>\n",
       "      <td>28</td>\n",
       "      <td>No</td>\n",
       "    </tr>\n",
       "  </tbody>\n",
       "</table>\n",
       "</div>"
      ],
      "text/plain": [
       "  Agency    Agency Type Distribution Channel              Product Name  \\\n",
       "0    C2B       Airlines               Online        Annual Silver Plan   \n",
       "1    EPX  Travel Agency               Online         Cancellation Plan   \n",
       "2    JZI       Airlines               Online                Basic Plan   \n",
       "3    EPX  Travel Agency               Online  2 way Comprehensive Plan   \n",
       "4    C2B       Airlines               Online               Bronze Plan   \n",
       "\n",
       "   Duration    Destination  Net Sales  Commision (in value)  Age Claim  \n",
       "0       365      SINGAPORE      216.0                  54.0   57    No  \n",
       "1         4       MALAYSIA       10.0                   0.0   33    No  \n",
       "2        19          INDIA       22.0                   7.7   26    No  \n",
       "3        20  UNITED STATES      112.0                   0.0   59    No  \n",
       "4         8      SINGAPORE       16.0                   4.0   28    No  "
      ]
     },
     "execution_count": 7,
     "metadata": {},
     "output_type": "execute_result"
    }
   ],
   "source": [
    "df=df.drop(['Gender'], axis=1)\n",
    "df.head()"
   ]
  },
  {
   "cell_type": "markdown",
   "metadata": {},
   "source": [
    "### Handling Data Duplication"
   ]
  },
  {
   "cell_type": "code",
   "execution_count": 8,
   "metadata": {
    "ExecuteTime": {
     "end_time": "2023-03-13T12:58:00.005175Z",
     "start_time": "2023-03-13T12:57:59.952317Z"
    }
   },
   "outputs": [
    {
     "data": {
      "text/html": [
       "<div>\n",
       "<style scoped>\n",
       "    .dataframe tbody tr th:only-of-type {\n",
       "        vertical-align: middle;\n",
       "    }\n",
       "\n",
       "    .dataframe tbody tr th {\n",
       "        vertical-align: top;\n",
       "    }\n",
       "\n",
       "    .dataframe thead th {\n",
       "        text-align: right;\n",
       "    }\n",
       "</style>\n",
       "<table border=\"1\" class=\"dataframe\">\n",
       "  <thead>\n",
       "    <tr style=\"text-align: right;\">\n",
       "      <th></th>\n",
       "      <th>Agency</th>\n",
       "      <th>Agency Type</th>\n",
       "      <th>Distribution Channel</th>\n",
       "      <th>Product Name</th>\n",
       "      <th>Duration</th>\n",
       "      <th>Destination</th>\n",
       "      <th>Net Sales</th>\n",
       "      <th>Commision (in value)</th>\n",
       "      <th>Age</th>\n",
       "      <th>Claim</th>\n",
       "    </tr>\n",
       "  </thead>\n",
       "  <tbody>\n",
       "    <tr>\n",
       "      <th>331</th>\n",
       "      <td>EPX</td>\n",
       "      <td>Travel Agency</td>\n",
       "      <td>Online</td>\n",
       "      <td>Cancellation Plan</td>\n",
       "      <td>2</td>\n",
       "      <td>SINGAPORE</td>\n",
       "      <td>10.0</td>\n",
       "      <td>0.00</td>\n",
       "      <td>36</td>\n",
       "      <td>No</td>\n",
       "    </tr>\n",
       "    <tr>\n",
       "      <th>360</th>\n",
       "      <td>EPX</td>\n",
       "      <td>Travel Agency</td>\n",
       "      <td>Online</td>\n",
       "      <td>Cancellation Plan</td>\n",
       "      <td>6</td>\n",
       "      <td>MALAYSIA</td>\n",
       "      <td>10.0</td>\n",
       "      <td>0.00</td>\n",
       "      <td>36</td>\n",
       "      <td>No</td>\n",
       "    </tr>\n",
       "    <tr>\n",
       "      <th>473</th>\n",
       "      <td>EPX</td>\n",
       "      <td>Travel Agency</td>\n",
       "      <td>Online</td>\n",
       "      <td>Cancellation Plan</td>\n",
       "      <td>11</td>\n",
       "      <td>MALAYSIA</td>\n",
       "      <td>10.0</td>\n",
       "      <td>0.00</td>\n",
       "      <td>36</td>\n",
       "      <td>No</td>\n",
       "    </tr>\n",
       "    <tr>\n",
       "      <th>488</th>\n",
       "      <td>EPX</td>\n",
       "      <td>Travel Agency</td>\n",
       "      <td>Online</td>\n",
       "      <td>Cancellation Plan</td>\n",
       "      <td>2</td>\n",
       "      <td>SINGAPORE</td>\n",
       "      <td>10.0</td>\n",
       "      <td>0.00</td>\n",
       "      <td>36</td>\n",
       "      <td>No</td>\n",
       "    </tr>\n",
       "    <tr>\n",
       "      <th>636</th>\n",
       "      <td>EPX</td>\n",
       "      <td>Travel Agency</td>\n",
       "      <td>Online</td>\n",
       "      <td>1 way Comprehensive Plan</td>\n",
       "      <td>3</td>\n",
       "      <td>MALAYSIA</td>\n",
       "      <td>20.0</td>\n",
       "      <td>0.00</td>\n",
       "      <td>36</td>\n",
       "      <td>No</td>\n",
       "    </tr>\n",
       "    <tr>\n",
       "      <th>...</th>\n",
       "      <td>...</td>\n",
       "      <td>...</td>\n",
       "      <td>...</td>\n",
       "      <td>...</td>\n",
       "      <td>...</td>\n",
       "      <td>...</td>\n",
       "      <td>...</td>\n",
       "      <td>...</td>\n",
       "      <td>...</td>\n",
       "      <td>...</td>\n",
       "    </tr>\n",
       "    <tr>\n",
       "      <th>44309</th>\n",
       "      <td>EPX</td>\n",
       "      <td>Travel Agency</td>\n",
       "      <td>Online</td>\n",
       "      <td>2 way Comprehensive Plan</td>\n",
       "      <td>49</td>\n",
       "      <td>VIET NAM</td>\n",
       "      <td>20.0</td>\n",
       "      <td>0.00</td>\n",
       "      <td>36</td>\n",
       "      <td>No</td>\n",
       "    </tr>\n",
       "    <tr>\n",
       "      <th>44311</th>\n",
       "      <td>CWT</td>\n",
       "      <td>Travel Agency</td>\n",
       "      <td>Online</td>\n",
       "      <td>Rental Vehicle Excess Insurance</td>\n",
       "      <td>5</td>\n",
       "      <td>THAILAND</td>\n",
       "      <td>29.7</td>\n",
       "      <td>17.82</td>\n",
       "      <td>38</td>\n",
       "      <td>No</td>\n",
       "    </tr>\n",
       "    <tr>\n",
       "      <th>44313</th>\n",
       "      <td>EPX</td>\n",
       "      <td>Travel Agency</td>\n",
       "      <td>Online</td>\n",
       "      <td>Cancellation Plan</td>\n",
       "      <td>5</td>\n",
       "      <td>CHINA</td>\n",
       "      <td>14.0</td>\n",
       "      <td>0.00</td>\n",
       "      <td>36</td>\n",
       "      <td>No</td>\n",
       "    </tr>\n",
       "    <tr>\n",
       "      <th>44315</th>\n",
       "      <td>EPX</td>\n",
       "      <td>Travel Agency</td>\n",
       "      <td>Online</td>\n",
       "      <td>1 way Comprehensive Plan</td>\n",
       "      <td>5</td>\n",
       "      <td>THAILAND</td>\n",
       "      <td>20.0</td>\n",
       "      <td>0.00</td>\n",
       "      <td>36</td>\n",
       "      <td>No</td>\n",
       "    </tr>\n",
       "    <tr>\n",
       "      <th>44321</th>\n",
       "      <td>EPX</td>\n",
       "      <td>Travel Agency</td>\n",
       "      <td>Online</td>\n",
       "      <td>Cancellation Plan</td>\n",
       "      <td>4</td>\n",
       "      <td>ITALY</td>\n",
       "      <td>10.0</td>\n",
       "      <td>0.00</td>\n",
       "      <td>36</td>\n",
       "      <td>No</td>\n",
       "    </tr>\n",
       "  </tbody>\n",
       "</table>\n",
       "<p>5004 rows × 10 columns</p>\n",
       "</div>"
      ],
      "text/plain": [
       "      Agency    Agency Type Distribution Channel  \\\n",
       "331      EPX  Travel Agency               Online   \n",
       "360      EPX  Travel Agency               Online   \n",
       "473      EPX  Travel Agency               Online   \n",
       "488      EPX  Travel Agency               Online   \n",
       "636      EPX  Travel Agency               Online   \n",
       "...      ...            ...                  ...   \n",
       "44309    EPX  Travel Agency               Online   \n",
       "44311    CWT  Travel Agency               Online   \n",
       "44313    EPX  Travel Agency               Online   \n",
       "44315    EPX  Travel Agency               Online   \n",
       "44321    EPX  Travel Agency               Online   \n",
       "\n",
       "                          Product Name  Duration Destination  Net Sales  \\\n",
       "331                  Cancellation Plan         2   SINGAPORE       10.0   \n",
       "360                  Cancellation Plan         6    MALAYSIA       10.0   \n",
       "473                  Cancellation Plan        11    MALAYSIA       10.0   \n",
       "488                  Cancellation Plan         2   SINGAPORE       10.0   \n",
       "636           1 way Comprehensive Plan         3    MALAYSIA       20.0   \n",
       "...                                ...       ...         ...        ...   \n",
       "44309         2 way Comprehensive Plan        49    VIET NAM       20.0   \n",
       "44311  Rental Vehicle Excess Insurance         5    THAILAND       29.7   \n",
       "44313                Cancellation Plan         5       CHINA       14.0   \n",
       "44315         1 way Comprehensive Plan         5    THAILAND       20.0   \n",
       "44321                Cancellation Plan         4       ITALY       10.0   \n",
       "\n",
       "       Commision (in value)  Age Claim  \n",
       "331                    0.00   36    No  \n",
       "360                    0.00   36    No  \n",
       "473                    0.00   36    No  \n",
       "488                    0.00   36    No  \n",
       "636                    0.00   36    No  \n",
       "...                     ...  ...   ...  \n",
       "44309                  0.00   36    No  \n",
       "44311                 17.82   38    No  \n",
       "44313                  0.00   36    No  \n",
       "44315                  0.00   36    No  \n",
       "44321                  0.00   36    No  \n",
       "\n",
       "[5004 rows x 10 columns]"
      ]
     },
     "execution_count": 8,
     "metadata": {},
     "output_type": "execute_result"
    }
   ],
   "source": [
    "df[df.duplicated(keep='first')]"
   ]
  },
  {
   "cell_type": "code",
   "execution_count": 9,
   "metadata": {
    "ExecuteTime": {
     "end_time": "2023-03-13T12:58:00.068008Z",
     "start_time": "2023-03-13T12:58:00.010162Z"
    }
   },
   "outputs": [
    {
     "data": {
      "text/html": [
       "<div>\n",
       "<style scoped>\n",
       "    .dataframe tbody tr th:only-of-type {\n",
       "        vertical-align: middle;\n",
       "    }\n",
       "\n",
       "    .dataframe tbody tr th {\n",
       "        vertical-align: top;\n",
       "    }\n",
       "\n",
       "    .dataframe thead th {\n",
       "        text-align: right;\n",
       "    }\n",
       "</style>\n",
       "<table border=\"1\" class=\"dataframe\">\n",
       "  <thead>\n",
       "    <tr style=\"text-align: right;\">\n",
       "      <th></th>\n",
       "      <th>Agency</th>\n",
       "      <th>Agency Type</th>\n",
       "      <th>Distribution Channel</th>\n",
       "      <th>Product Name</th>\n",
       "      <th>Duration</th>\n",
       "      <th>Destination</th>\n",
       "      <th>Net Sales</th>\n",
       "      <th>Commision (in value)</th>\n",
       "      <th>Age</th>\n",
       "      <th>Claim</th>\n",
       "    </tr>\n",
       "  </thead>\n",
       "  <tbody>\n",
       "    <tr>\n",
       "      <th>0</th>\n",
       "      <td>C2B</td>\n",
       "      <td>Airlines</td>\n",
       "      <td>Online</td>\n",
       "      <td>Annual Silver Plan</td>\n",
       "      <td>365</td>\n",
       "      <td>SINGAPORE</td>\n",
       "      <td>216.0</td>\n",
       "      <td>54.0</td>\n",
       "      <td>57</td>\n",
       "      <td>No</td>\n",
       "    </tr>\n",
       "    <tr>\n",
       "      <th>1</th>\n",
       "      <td>EPX</td>\n",
       "      <td>Travel Agency</td>\n",
       "      <td>Online</td>\n",
       "      <td>Cancellation Plan</td>\n",
       "      <td>4</td>\n",
       "      <td>MALAYSIA</td>\n",
       "      <td>10.0</td>\n",
       "      <td>0.0</td>\n",
       "      <td>33</td>\n",
       "      <td>No</td>\n",
       "    </tr>\n",
       "    <tr>\n",
       "      <th>2</th>\n",
       "      <td>JZI</td>\n",
       "      <td>Airlines</td>\n",
       "      <td>Online</td>\n",
       "      <td>Basic Plan</td>\n",
       "      <td>19</td>\n",
       "      <td>INDIA</td>\n",
       "      <td>22.0</td>\n",
       "      <td>7.7</td>\n",
       "      <td>26</td>\n",
       "      <td>No</td>\n",
       "    </tr>\n",
       "    <tr>\n",
       "      <th>3</th>\n",
       "      <td>EPX</td>\n",
       "      <td>Travel Agency</td>\n",
       "      <td>Online</td>\n",
       "      <td>2 way Comprehensive Plan</td>\n",
       "      <td>20</td>\n",
       "      <td>UNITED STATES</td>\n",
       "      <td>112.0</td>\n",
       "      <td>0.0</td>\n",
       "      <td>59</td>\n",
       "      <td>No</td>\n",
       "    </tr>\n",
       "    <tr>\n",
       "      <th>4</th>\n",
       "      <td>C2B</td>\n",
       "      <td>Airlines</td>\n",
       "      <td>Online</td>\n",
       "      <td>Bronze Plan</td>\n",
       "      <td>8</td>\n",
       "      <td>SINGAPORE</td>\n",
       "      <td>16.0</td>\n",
       "      <td>4.0</td>\n",
       "      <td>28</td>\n",
       "      <td>No</td>\n",
       "    </tr>\n",
       "  </tbody>\n",
       "</table>\n",
       "</div>"
      ],
      "text/plain": [
       "  Agency    Agency Type Distribution Channel              Product Name  \\\n",
       "0    C2B       Airlines               Online        Annual Silver Plan   \n",
       "1    EPX  Travel Agency               Online         Cancellation Plan   \n",
       "2    JZI       Airlines               Online                Basic Plan   \n",
       "3    EPX  Travel Agency               Online  2 way Comprehensive Plan   \n",
       "4    C2B       Airlines               Online               Bronze Plan   \n",
       "\n",
       "   Duration    Destination  Net Sales  Commision (in value)  Age Claim  \n",
       "0       365      SINGAPORE      216.0                  54.0   57    No  \n",
       "1         4       MALAYSIA       10.0                   0.0   33    No  \n",
       "2        19          INDIA       22.0                   7.7   26    No  \n",
       "3        20  UNITED STATES      112.0                   0.0   59    No  \n",
       "4         8      SINGAPORE       16.0                   4.0   28    No  "
      ]
     },
     "execution_count": 9,
     "metadata": {},
     "output_type": "execute_result"
    }
   ],
   "source": [
    "df.drop_duplicates(keep='first',inplace=True)\n",
    "df=df.reset_index().drop(columns = {'index'})\n",
    "df.head()"
   ]
  },
  {
   "cell_type": "code",
   "execution_count": 10,
   "metadata": {
    "ExecuteTime": {
     "end_time": "2023-03-13T12:58:00.112887Z",
     "start_time": "2023-03-13T12:58:00.069004Z"
    }
   },
   "outputs": [
    {
     "data": {
      "text/html": [
       "<div>\n",
       "<style scoped>\n",
       "    .dataframe tbody tr th:only-of-type {\n",
       "        vertical-align: middle;\n",
       "    }\n",
       "\n",
       "    .dataframe tbody tr th {\n",
       "        vertical-align: top;\n",
       "    }\n",
       "\n",
       "    .dataframe thead th {\n",
       "        text-align: right;\n",
       "    }\n",
       "</style>\n",
       "<table border=\"1\" class=\"dataframe\">\n",
       "  <thead>\n",
       "    <tr style=\"text-align: right;\">\n",
       "      <th></th>\n",
       "      <th>Agency</th>\n",
       "      <th>Agency Type</th>\n",
       "      <th>Distribution Channel</th>\n",
       "      <th>Product Name</th>\n",
       "      <th>Duration</th>\n",
       "      <th>Destination</th>\n",
       "      <th>Net Sales</th>\n",
       "      <th>Commision (in value)</th>\n",
       "      <th>Age</th>\n",
       "      <th>Claim</th>\n",
       "    </tr>\n",
       "  </thead>\n",
       "  <tbody>\n",
       "  </tbody>\n",
       "</table>\n",
       "</div>"
      ],
      "text/plain": [
       "Empty DataFrame\n",
       "Columns: [Agency, Agency Type, Distribution Channel, Product Name, Duration, Destination, Net Sales, Commision (in value), Age, Claim]\n",
       "Index: []"
      ]
     },
     "execution_count": 10,
     "metadata": {},
     "output_type": "execute_result"
    }
   ],
   "source": [
    "df[df.duplicated(keep='first')]"
   ]
  },
  {
   "cell_type": "markdown",
   "metadata": {},
   "source": [
    "## Data Analysis"
   ]
  },
  {
   "cell_type": "markdown",
   "metadata": {},
   "source": [
    "### Decriptive Statistical Data"
   ]
  },
  {
   "cell_type": "code",
   "execution_count": 11,
   "metadata": {
    "ExecuteTime": {
     "end_time": "2023-03-13T12:58:00.189681Z",
     "start_time": "2023-03-13T12:58:00.115879Z"
    }
   },
   "outputs": [
    {
     "data": {
      "text/html": [
       "<div>\n",
       "<style scoped>\n",
       "    .dataframe tbody tr th:only-of-type {\n",
       "        vertical-align: middle;\n",
       "    }\n",
       "\n",
       "    .dataframe tbody tr th {\n",
       "        vertical-align: top;\n",
       "    }\n",
       "\n",
       "    .dataframe thead th {\n",
       "        text-align: right;\n",
       "    }\n",
       "</style>\n",
       "<table border=\"1\" class=\"dataframe\">\n",
       "  <thead>\n",
       "    <tr style=\"text-align: right;\">\n",
       "      <th></th>\n",
       "      <th>Duration</th>\n",
       "      <th>Net Sales</th>\n",
       "      <th>Commision (in value)</th>\n",
       "      <th>Age</th>\n",
       "    </tr>\n",
       "  </thead>\n",
       "  <tbody>\n",
       "    <tr>\n",
       "      <th>count</th>\n",
       "      <td>39324.000000</td>\n",
       "      <td>39324.00000</td>\n",
       "      <td>39324.000000</td>\n",
       "      <td>39324.000000</td>\n",
       "    </tr>\n",
       "    <tr>\n",
       "      <th>mean</th>\n",
       "      <td>52.275989</td>\n",
       "      <td>42.20253</td>\n",
       "      <td>10.386189</td>\n",
       "      <td>39.833054</td>\n",
       "    </tr>\n",
       "    <tr>\n",
       "      <th>std</th>\n",
       "      <td>113.404932</td>\n",
       "      <td>49.70403</td>\n",
       "      <td>20.345275</td>\n",
       "      <td>13.225494</td>\n",
       "    </tr>\n",
       "    <tr>\n",
       "      <th>min</th>\n",
       "      <td>-1.000000</td>\n",
       "      <td>-357.50000</td>\n",
       "      <td>0.000000</td>\n",
       "      <td>0.000000</td>\n",
       "    </tr>\n",
       "    <tr>\n",
       "      <th>25%</th>\n",
       "      <td>11.000000</td>\n",
       "      <td>19.00000</td>\n",
       "      <td>0.000000</td>\n",
       "      <td>35.000000</td>\n",
       "    </tr>\n",
       "    <tr>\n",
       "      <th>50%</th>\n",
       "      <td>25.000000</td>\n",
       "      <td>29.00000</td>\n",
       "      <td>0.000000</td>\n",
       "      <td>36.000000</td>\n",
       "    </tr>\n",
       "    <tr>\n",
       "      <th>75%</th>\n",
       "      <td>57.000000</td>\n",
       "      <td>50.00000</td>\n",
       "      <td>11.880000</td>\n",
       "      <td>44.000000</td>\n",
       "    </tr>\n",
       "    <tr>\n",
       "      <th>max</th>\n",
       "      <td>4881.000000</td>\n",
       "      <td>810.00000</td>\n",
       "      <td>283.500000</td>\n",
       "      <td>118.000000</td>\n",
       "    </tr>\n",
       "  </tbody>\n",
       "</table>\n",
       "</div>"
      ],
      "text/plain": [
       "           Duration    Net Sales  Commision (in value)           Age\n",
       "count  39324.000000  39324.00000          39324.000000  39324.000000\n",
       "mean      52.275989     42.20253             10.386189     39.833054\n",
       "std      113.404932     49.70403             20.345275     13.225494\n",
       "min       -1.000000   -357.50000              0.000000      0.000000\n",
       "25%       11.000000     19.00000              0.000000     35.000000\n",
       "50%       25.000000     29.00000              0.000000     36.000000\n",
       "75%       57.000000     50.00000             11.880000     44.000000\n",
       "max     4881.000000    810.00000            283.500000    118.000000"
      ]
     },
     "metadata": {},
     "output_type": "display_data"
    },
    {
     "data": {
      "text/html": [
       "<div>\n",
       "<style scoped>\n",
       "    .dataframe tbody tr th:only-of-type {\n",
       "        vertical-align: middle;\n",
       "    }\n",
       "\n",
       "    .dataframe tbody tr th {\n",
       "        vertical-align: top;\n",
       "    }\n",
       "\n",
       "    .dataframe thead th {\n",
       "        text-align: right;\n",
       "    }\n",
       "</style>\n",
       "<table border=\"1\" class=\"dataframe\">\n",
       "  <thead>\n",
       "    <tr style=\"text-align: right;\">\n",
       "      <th></th>\n",
       "      <th>Agency</th>\n",
       "      <th>Agency Type</th>\n",
       "      <th>Distribution Channel</th>\n",
       "      <th>Product Name</th>\n",
       "      <th>Destination</th>\n",
       "      <th>Claim</th>\n",
       "    </tr>\n",
       "  </thead>\n",
       "  <tbody>\n",
       "    <tr>\n",
       "      <th>count</th>\n",
       "      <td>39324</td>\n",
       "      <td>39324</td>\n",
       "      <td>39324</td>\n",
       "      <td>39324</td>\n",
       "      <td>39324</td>\n",
       "      <td>39324</td>\n",
       "    </tr>\n",
       "    <tr>\n",
       "      <th>unique</th>\n",
       "      <td>16</td>\n",
       "      <td>2</td>\n",
       "      <td>2</td>\n",
       "      <td>26</td>\n",
       "      <td>138</td>\n",
       "      <td>2</td>\n",
       "    </tr>\n",
       "    <tr>\n",
       "      <th>top</th>\n",
       "      <td>EPX</td>\n",
       "      <td>Travel Agency</td>\n",
       "      <td>Online</td>\n",
       "      <td>Cancellation Plan</td>\n",
       "      <td>SINGAPORE</td>\n",
       "      <td>No</td>\n",
       "    </tr>\n",
       "    <tr>\n",
       "      <th>freq</th>\n",
       "      <td>20990</td>\n",
       "      <td>28096</td>\n",
       "      <td>38613</td>\n",
       "      <td>11009</td>\n",
       "      <td>8106</td>\n",
       "      <td>38651</td>\n",
       "    </tr>\n",
       "  </tbody>\n",
       "</table>\n",
       "</div>"
      ],
      "text/plain": [
       "       Agency    Agency Type Distribution Channel       Product Name  \\\n",
       "count   39324          39324                39324              39324   \n",
       "unique     16              2                    2                 26   \n",
       "top       EPX  Travel Agency               Online  Cancellation Plan   \n",
       "freq    20990          28096                38613              11009   \n",
       "\n",
       "       Destination  Claim  \n",
       "count        39324  39324  \n",
       "unique         138      2  \n",
       "top      SINGAPORE     No  \n",
       "freq          8106  38651  "
      ]
     },
     "metadata": {},
     "output_type": "display_data"
    }
   ],
   "source": [
    "display(df.describe(),df.describe(include='object'))"
   ]
  },
  {
   "cell_type": "markdown",
   "metadata": {},
   "source": [
    "kita perlu melihat data dalam grafik untuk melihat apakah ada outlier yang perlu dihilangkan atau tidak. Kita juga dapat melihat bahwa ada salah data dalam durasi yang berisi nilai -1, yang seharusnya tidak boleh 0 atau minus."
   ]
  },
  {
   "cell_type": "code",
   "execution_count": 12,
   "metadata": {
    "ExecuteTime": {
     "end_time": "2023-03-13T12:58:00.205640Z",
     "start_time": "2023-03-13T12:58:00.191676Z"
    }
   },
   "outputs": [
    {
     "name": "stdout",
     "output_type": "stream",
     "text": [
      "<class 'pandas.core.frame.DataFrame'>\n",
      "RangeIndex: 39324 entries, 0 to 39323\n",
      "Data columns (total 4 columns):\n",
      " #   Column                Non-Null Count  Dtype  \n",
      "---  ------                --------------  -----  \n",
      " 0   Duration              39324 non-null  int64  \n",
      " 1   Net Sales             39324 non-null  float64\n",
      " 2   Commision (in value)  39324 non-null  float64\n",
      " 3   Age                   39324 non-null  int64  \n",
      "dtypes: float64(2), int64(2)\n",
      "memory usage: 1.2 MB\n"
     ]
    }
   ],
   "source": [
    "df_numerical=df._get_numeric_data()\n",
    "df_numerical.info()"
   ]
  },
  {
   "cell_type": "code",
   "execution_count": 13,
   "metadata": {
    "ExecuteTime": {
     "end_time": "2023-03-13T12:58:02.828006Z",
     "start_time": "2023-03-13T12:58:00.207634Z"
    }
   },
   "outputs": [
    {
     "data": {
      "image/png": "[encoded data removed]",
      "text/plain": [
       "<Figure size 1200x1200 with 4 Axes>"
      ]
     },
     "metadata": {},
     "output_type": "display_data"
    }
   ],
   "source": [
    "fig, axs = plt.subplots(nrows=2, ncols=2, figsize=(12, 12))\n",
    "axs = axs.flatten()\n",
    "for i, col in enumerate(df_numerical.columns):\n",
    "    sns.distplot(df_numerical[col], ax=axs[i])\n",
    "    axs[i].set_title(col)\n",
    "plt.tight_layout()\n",
    "plt.show()"
   ]
  },
  {
   "cell_type": "code",
   "execution_count": 14,
   "metadata": {
    "ExecuteTime": {
     "end_time": "2023-03-13T12:58:03.312250Z",
     "start_time": "2023-03-13T12:58:02.829003Z"
    }
   },
   "outputs": [
    {
     "data": {
      "image/png": "[encoded data removed]",
      "text/plain": [
       "<Figure size 1200x1200 with 4 Axes>"
      ]
     },
     "metadata": {},
     "output_type": "display_data"
    }
   ],
   "source": [
    "fig, axs = plt.subplots(nrows=2, ncols=2, figsize=(12, 12))\n",
    "axs = axs.flatten()\n",
    "for i, col in enumerate(df_numerical.columns):\n",
    "    sns.boxplot(df_numerical[col], ax=axs[i])\n",
    "    axs[i].set_title(col)\n",
    "plt.tight_layout()\n",
    "plt.show()"
   ]
  },
  {
   "cell_type": "markdown",
   "metadata": {},
   "source": [
    "#### Cek Duration"
   ]
  },
  {
   "cell_type": "code",
   "execution_count": 15,
   "metadata": {
    "ExecuteTime": {
     "end_time": "2023-03-13T12:58:03.342737Z",
     "start_time": "2023-03-13T12:58:03.317237Z"
    }
   },
   "outputs": [
    {
     "data": {
      "text/html": [
       "<div>\n",
       "<style scoped>\n",
       "    .dataframe tbody tr th:only-of-type {\n",
       "        vertical-align: middle;\n",
       "    }\n",
       "\n",
       "    .dataframe tbody tr th {\n",
       "        vertical-align: top;\n",
       "    }\n",
       "\n",
       "    .dataframe thead th {\n",
       "        text-align: right;\n",
       "    }\n",
       "</style>\n",
       "<table border=\"1\" class=\"dataframe\">\n",
       "  <thead>\n",
       "    <tr style=\"text-align: right;\">\n",
       "      <th></th>\n",
       "      <th>Agency</th>\n",
       "      <th>Agency Type</th>\n",
       "      <th>Distribution Channel</th>\n",
       "      <th>Product Name</th>\n",
       "      <th>Duration</th>\n",
       "      <th>Destination</th>\n",
       "      <th>Net Sales</th>\n",
       "      <th>Commision (in value)</th>\n",
       "      <th>Age</th>\n",
       "      <th>Claim</th>\n",
       "    </tr>\n",
       "  </thead>\n",
       "  <tbody>\n",
       "    <tr>\n",
       "      <th>24015</th>\n",
       "      <td>JZI</td>\n",
       "      <td>Airlines</td>\n",
       "      <td>Online</td>\n",
       "      <td>Basic Plan</td>\n",
       "      <td>-1</td>\n",
       "      <td>MALAYSIA</td>\n",
       "      <td>18.0</td>\n",
       "      <td>6.3</td>\n",
       "      <td>118</td>\n",
       "      <td>No</td>\n",
       "    </tr>\n",
       "    <tr>\n",
       "      <th>24245</th>\n",
       "      <td>JZI</td>\n",
       "      <td>Airlines</td>\n",
       "      <td>Online</td>\n",
       "      <td>Basic Plan</td>\n",
       "      <td>-1</td>\n",
       "      <td>BRUNEI DARUSSALAM</td>\n",
       "      <td>18.0</td>\n",
       "      <td>6.3</td>\n",
       "      <td>118</td>\n",
       "      <td>No</td>\n",
       "    </tr>\n",
       "  </tbody>\n",
       "</table>\n",
       "</div>"
      ],
      "text/plain": [
       "      Agency Agency Type Distribution Channel Product Name  Duration  \\\n",
       "24015    JZI    Airlines               Online   Basic Plan        -1   \n",
       "24245    JZI    Airlines               Online   Basic Plan        -1   \n",
       "\n",
       "             Destination  Net Sales  Commision (in value)  Age Claim  \n",
       "24015           MALAYSIA       18.0                   6.3  118    No  \n",
       "24245  BRUNEI DARUSSALAM       18.0                   6.3  118    No  "
      ]
     },
     "execution_count": 15,
     "metadata": {},
     "output_type": "execute_result"
    }
   ],
   "source": [
    "df[df['Duration']<0]"
   ]
  },
  {
   "cell_type": "code",
   "execution_count": 16,
   "metadata": {
    "ExecuteTime": {
     "end_time": "2023-03-13T12:58:03.358694Z",
     "start_time": "2023-03-13T12:58:03.344699Z"
    }
   },
   "outputs": [],
   "source": [
    "df['Duration'] = np.where(df['Duration']<0, np.nan, df['Duration'])"
   ]
  },
  {
   "cell_type": "code",
   "execution_count": 17,
   "metadata": {
    "ExecuteTime": {
     "end_time": "2023-03-13T12:58:03.437040Z",
     "start_time": "2023-03-13T12:58:03.359659Z"
    }
   },
   "outputs": [],
   "source": [
    "df[df['Destination']=='MALAYSIA'] = df[df['Destination']=='MALAYSIA'].fillna(df[df['Destination']=='MALAYSIA']['Duration'].median())\n",
    "df[df['Destination']=='BRUNEI DARUSSALAM']= df[df['Destination']=='BRUNEI DARUSSALAM'].fillna(df[df['Destination']=='BRUNEI DARUSSALAM']['Duration'].median())"
   ]
  },
  {
   "cell_type": "code",
   "execution_count": 18,
   "metadata": {
    "ExecuteTime": {
     "end_time": "2023-03-13T12:58:03.452000Z",
     "start_time": "2023-03-13T12:58:03.439035Z"
    }
   },
   "outputs": [
    {
     "data": {
      "text/html": [
       "<div>\n",
       "<style scoped>\n",
       "    .dataframe tbody tr th:only-of-type {\n",
       "        vertical-align: middle;\n",
       "    }\n",
       "\n",
       "    .dataframe tbody tr th {\n",
       "        vertical-align: top;\n",
       "    }\n",
       "\n",
       "    .dataframe thead th {\n",
       "        text-align: right;\n",
       "    }\n",
       "</style>\n",
       "<table border=\"1\" class=\"dataframe\">\n",
       "  <thead>\n",
       "    <tr style=\"text-align: right;\">\n",
       "      <th></th>\n",
       "      <th>Agency</th>\n",
       "      <th>Agency Type</th>\n",
       "      <th>Distribution Channel</th>\n",
       "      <th>Product Name</th>\n",
       "      <th>Duration</th>\n",
       "      <th>Destination</th>\n",
       "      <th>Net Sales</th>\n",
       "      <th>Commision (in value)</th>\n",
       "      <th>Age</th>\n",
       "      <th>Claim</th>\n",
       "    </tr>\n",
       "  </thead>\n",
       "  <tbody>\n",
       "  </tbody>\n",
       "</table>\n",
       "</div>"
      ],
      "text/plain": [
       "Empty DataFrame\n",
       "Columns: [Agency, Agency Type, Distribution Channel, Product Name, Duration, Destination, Net Sales, Commision (in value), Age, Claim]\n",
       "Index: []"
      ]
     },
     "execution_count": 18,
     "metadata": {},
     "output_type": "execute_result"
    }
   ],
   "source": [
    "df[df['Duration']<0]"
   ]
  },
  {
   "cell_type": "markdown",
   "metadata": {},
   "source": [
    "#### Cek Age"
   ]
  },
  {
   "cell_type": "markdown",
   "metadata": {},
   "source": [
    "Setelah membaca dari beberapa sumber mengenai travel insurance bahwa range usia yang boleh mendaftar adalah 0-75 tahun. tetapi ada juga yang menerima usia 0-100 tahun. jadi untuk usia > 100 maka akan kita drop karena akan di anggap sebagai outliar"
   ]
  },
  {
   "cell_type": "code",
   "execution_count": 19,
   "metadata": {
    "ExecuteTime": {
     "end_time": "2023-03-13T12:58:03.482918Z",
     "start_time": "2023-03-13T12:58:03.453995Z"
    }
   },
   "outputs": [
    {
     "data": {
      "text/html": [
       "<div>\n",
       "<style scoped>\n",
       "    .dataframe tbody tr th:only-of-type {\n",
       "        vertical-align: middle;\n",
       "    }\n",
       "\n",
       "    .dataframe tbody tr th {\n",
       "        vertical-align: top;\n",
       "    }\n",
       "\n",
       "    .dataframe thead th {\n",
       "        text-align: right;\n",
       "    }\n",
       "</style>\n",
       "<table border=\"1\" class=\"dataframe\">\n",
       "  <thead>\n",
       "    <tr style=\"text-align: right;\">\n",
       "      <th></th>\n",
       "      <th>Agency</th>\n",
       "      <th>Agency Type</th>\n",
       "      <th>Distribution Channel</th>\n",
       "      <th>Product Name</th>\n",
       "      <th>Duration</th>\n",
       "      <th>Destination</th>\n",
       "      <th>Net Sales</th>\n",
       "      <th>Commision (in value)</th>\n",
       "      <th>Age</th>\n",
       "      <th>Claim</th>\n",
       "    </tr>\n",
       "  </thead>\n",
       "  <tbody>\n",
       "    <tr>\n",
       "      <th>99</th>\n",
       "      <td>ART</td>\n",
       "      <td>Airlines</td>\n",
       "      <td>Online</td>\n",
       "      <td>Value Plan</td>\n",
       "      <td>7.0</td>\n",
       "      <td>MALAYSIA</td>\n",
       "      <td>29.0</td>\n",
       "      <td>10.15</td>\n",
       "      <td>118</td>\n",
       "      <td>No</td>\n",
       "    </tr>\n",
       "    <tr>\n",
       "      <th>23397</th>\n",
       "      <td>JWT</td>\n",
       "      <td>Airlines</td>\n",
       "      <td>Online</td>\n",
       "      <td>Value Plan</td>\n",
       "      <td>31.0</td>\n",
       "      <td>INDIA</td>\n",
       "      <td>120.0</td>\n",
       "      <td>48.00</td>\n",
       "      <td>118</td>\n",
       "      <td>No</td>\n",
       "    </tr>\n",
       "    <tr>\n",
       "      <th>26995</th>\n",
       "      <td>JWT</td>\n",
       "      <td>Airlines</td>\n",
       "      <td>Online</td>\n",
       "      <td>Value Plan</td>\n",
       "      <td>41.0</td>\n",
       "      <td>INDIA</td>\n",
       "      <td>31.0</td>\n",
       "      <td>12.40</td>\n",
       "      <td>118</td>\n",
       "      <td>No</td>\n",
       "    </tr>\n",
       "    <tr>\n",
       "      <th>26981</th>\n",
       "      <td>EPX</td>\n",
       "      <td>Travel Agency</td>\n",
       "      <td>Offline</td>\n",
       "      <td>Cancellation Plan</td>\n",
       "      <td>72.0</td>\n",
       "      <td>MALAYSIA</td>\n",
       "      <td>0.0</td>\n",
       "      <td>0.00</td>\n",
       "      <td>118</td>\n",
       "      <td>No</td>\n",
       "    </tr>\n",
       "    <tr>\n",
       "      <th>26810</th>\n",
       "      <td>JWT</td>\n",
       "      <td>Airlines</td>\n",
       "      <td>Online</td>\n",
       "      <td>Value Plan</td>\n",
       "      <td>19.0</td>\n",
       "      <td>INDIA</td>\n",
       "      <td>72.0</td>\n",
       "      <td>28.80</td>\n",
       "      <td>118</td>\n",
       "      <td>No</td>\n",
       "    </tr>\n",
       "    <tr>\n",
       "      <th>...</th>\n",
       "      <td>...</td>\n",
       "      <td>...</td>\n",
       "      <td>...</td>\n",
       "      <td>...</td>\n",
       "      <td>...</td>\n",
       "      <td>...</td>\n",
       "      <td>...</td>\n",
       "      <td>...</td>\n",
       "      <td>...</td>\n",
       "      <td>...</td>\n",
       "    </tr>\n",
       "    <tr>\n",
       "      <th>12195</th>\n",
       "      <td>ART</td>\n",
       "      <td>Airlines</td>\n",
       "      <td>Online</td>\n",
       "      <td>Value Plan</td>\n",
       "      <td>27.0</td>\n",
       "      <td>UNITED KINGDOM</td>\n",
       "      <td>96.0</td>\n",
       "      <td>33.60</td>\n",
       "      <td>118</td>\n",
       "      <td>No</td>\n",
       "    </tr>\n",
       "    <tr>\n",
       "      <th>11926</th>\n",
       "      <td>JWT</td>\n",
       "      <td>Airlines</td>\n",
       "      <td>Online</td>\n",
       "      <td>Value Plan</td>\n",
       "      <td>102.0</td>\n",
       "      <td>INDIA</td>\n",
       "      <td>-78.0</td>\n",
       "      <td>31.20</td>\n",
       "      <td>118</td>\n",
       "      <td>No</td>\n",
       "    </tr>\n",
       "    <tr>\n",
       "      <th>11861</th>\n",
       "      <td>JWT</td>\n",
       "      <td>Airlines</td>\n",
       "      <td>Online</td>\n",
       "      <td>Value Plan</td>\n",
       "      <td>24.0</td>\n",
       "      <td>INDIA</td>\n",
       "      <td>50.0</td>\n",
       "      <td>20.00</td>\n",
       "      <td>118</td>\n",
       "      <td>No</td>\n",
       "    </tr>\n",
       "    <tr>\n",
       "      <th>11799</th>\n",
       "      <td>CCR</td>\n",
       "      <td>Travel Agency</td>\n",
       "      <td>Offline</td>\n",
       "      <td>Comprehensive Plan</td>\n",
       "      <td>6.0</td>\n",
       "      <td>THAILAND</td>\n",
       "      <td>29.0</td>\n",
       "      <td>9.57</td>\n",
       "      <td>118</td>\n",
       "      <td>No</td>\n",
       "    </tr>\n",
       "    <tr>\n",
       "      <th>39170</th>\n",
       "      <td>JWT</td>\n",
       "      <td>Airlines</td>\n",
       "      <td>Online</td>\n",
       "      <td>Value Plan</td>\n",
       "      <td>84.0</td>\n",
       "      <td>INDIA</td>\n",
       "      <td>93.0</td>\n",
       "      <td>37.20</td>\n",
       "      <td>118</td>\n",
       "      <td>No</td>\n",
       "    </tr>\n",
       "  </tbody>\n",
       "</table>\n",
       "<p>423 rows × 10 columns</p>\n",
       "</div>"
      ],
      "text/plain": [
       "      Agency    Agency Type Distribution Channel        Product Name  \\\n",
       "99       ART       Airlines               Online          Value Plan   \n",
       "23397    JWT       Airlines               Online          Value Plan   \n",
       "26995    JWT       Airlines               Online          Value Plan   \n",
       "26981    EPX  Travel Agency              Offline   Cancellation Plan   \n",
       "26810    JWT       Airlines               Online          Value Plan   \n",
       "...      ...            ...                  ...                 ...   \n",
       "12195    ART       Airlines               Online          Value Plan   \n",
       "11926    JWT       Airlines               Online          Value Plan   \n",
       "11861    JWT       Airlines               Online          Value Plan   \n",
       "11799    CCR  Travel Agency              Offline  Comprehensive Plan   \n",
       "39170    JWT       Airlines               Online          Value Plan   \n",
       "\n",
       "       Duration     Destination  Net Sales  Commision (in value)  Age Claim  \n",
       "99          7.0        MALAYSIA       29.0                 10.15  118    No  \n",
       "23397      31.0           INDIA      120.0                 48.00  118    No  \n",
       "26995      41.0           INDIA       31.0                 12.40  118    No  \n",
       "26981      72.0        MALAYSIA        0.0                  0.00  118    No  \n",
       "26810      19.0           INDIA       72.0                 28.80  118    No  \n",
       "...         ...             ...        ...                   ...  ...   ...  \n",
       "12195      27.0  UNITED KINGDOM       96.0                 33.60  118    No  \n",
       "11926     102.0           INDIA      -78.0                 31.20  118    No  \n",
       "11861      24.0           INDIA       50.0                 20.00  118    No  \n",
       "11799       6.0        THAILAND       29.0                  9.57  118    No  \n",
       "39170      84.0           INDIA       93.0                 37.20  118    No  \n",
       "\n",
       "[423 rows x 10 columns]"
      ]
     },
     "execution_count": 19,
     "metadata": {},
     "output_type": "execute_result"
    }
   ],
   "source": [
    "# Show Age > 100 tahun\n",
    "age_drop = df[df['Age']>100]\n",
    "age_drop.sort_values(['Age'], ascending=False)"
   ]
  },
  {
   "cell_type": "code",
   "execution_count": 20,
   "metadata": {
    "ExecuteTime": {
     "end_time": "2023-03-13T12:58:03.498874Z",
     "start_time": "2023-03-13T12:58:03.484913Z"
    }
   },
   "outputs": [],
   "source": [
    "# Drop outliers\n",
    "df.drop(age_drop.index , inplace=True)"
   ]
  },
  {
   "cell_type": "code",
   "execution_count": 21,
   "metadata": {
    "ExecuteTime": {
     "end_time": "2023-03-13T12:58:03.513835Z",
     "start_time": "2023-03-13T12:58:03.499872Z"
    }
   },
   "outputs": [
    {
     "data": {
      "text/html": [
       "<div>\n",
       "<style scoped>\n",
       "    .dataframe tbody tr th:only-of-type {\n",
       "        vertical-align: middle;\n",
       "    }\n",
       "\n",
       "    .dataframe tbody tr th {\n",
       "        vertical-align: top;\n",
       "    }\n",
       "\n",
       "    .dataframe thead th {\n",
       "        text-align: right;\n",
       "    }\n",
       "</style>\n",
       "<table border=\"1\" class=\"dataframe\">\n",
       "  <thead>\n",
       "    <tr style=\"text-align: right;\">\n",
       "      <th></th>\n",
       "      <th>Agency</th>\n",
       "      <th>Agency Type</th>\n",
       "      <th>Distribution Channel</th>\n",
       "      <th>Product Name</th>\n",
       "      <th>Duration</th>\n",
       "      <th>Destination</th>\n",
       "      <th>Net Sales</th>\n",
       "      <th>Commision (in value)</th>\n",
       "      <th>Age</th>\n",
       "      <th>Claim</th>\n",
       "    </tr>\n",
       "  </thead>\n",
       "  <tbody>\n",
       "  </tbody>\n",
       "</table>\n",
       "</div>"
      ],
      "text/plain": [
       "Empty DataFrame\n",
       "Columns: [Agency, Agency Type, Distribution Channel, Product Name, Duration, Destination, Net Sales, Commision (in value), Age, Claim]\n",
       "Index: []"
      ]
     },
     "execution_count": 21,
     "metadata": {},
     "output_type": "execute_result"
    }
   ],
   "source": [
    "# Show Age > 100 tahun\n",
    "age_drop = df[df['Age']>100]\n",
    "age_drop.sort_values(['Age'], ascending=False)"
   ]
  },
  {
   "cell_type": "markdown",
   "metadata": {},
   "source": [
    "#### Cek Duration"
   ]
  },
  {
   "cell_type": "code",
   "execution_count": 22,
   "metadata": {
    "ExecuteTime": {
     "end_time": "2023-03-13T12:58:03.545751Z",
     "start_time": "2023-03-13T12:58:03.516828Z"
    }
   },
   "outputs": [
    {
     "data": {
      "text/html": [
       "<div>\n",
       "<style scoped>\n",
       "    .dataframe tbody tr th:only-of-type {\n",
       "        vertical-align: middle;\n",
       "    }\n",
       "\n",
       "    .dataframe tbody tr th {\n",
       "        vertical-align: top;\n",
       "    }\n",
       "\n",
       "    .dataframe thead th {\n",
       "        text-align: right;\n",
       "    }\n",
       "</style>\n",
       "<table border=\"1\" class=\"dataframe\">\n",
       "  <thead>\n",
       "    <tr style=\"text-align: right;\">\n",
       "      <th></th>\n",
       "      <th>Agency</th>\n",
       "      <th>Agency Type</th>\n",
       "      <th>Distribution Channel</th>\n",
       "      <th>Product Name</th>\n",
       "      <th>Duration</th>\n",
       "      <th>Destination</th>\n",
       "      <th>Net Sales</th>\n",
       "      <th>Commision (in value)</th>\n",
       "      <th>Age</th>\n",
       "      <th>Claim</th>\n",
       "    </tr>\n",
       "  </thead>\n",
       "  <tbody>\n",
       "    <tr>\n",
       "      <th>87</th>\n",
       "      <td>SSI</td>\n",
       "      <td>Airlines</td>\n",
       "      <td>Online</td>\n",
       "      <td>Ticket Protector</td>\n",
       "      <td>4736.0</td>\n",
       "      <td>SINGAPORE</td>\n",
       "      <td>0.32</td>\n",
       "      <td>0.09</td>\n",
       "      <td>48</td>\n",
       "      <td>No</td>\n",
       "    </tr>\n",
       "    <tr>\n",
       "      <th>4556</th>\n",
       "      <td>SSI</td>\n",
       "      <td>Airlines</td>\n",
       "      <td>Online</td>\n",
       "      <td>Ticket Protector</td>\n",
       "      <td>4857.0</td>\n",
       "      <td>SINGAPORE</td>\n",
       "      <td>0.32</td>\n",
       "      <td>0.09</td>\n",
       "      <td>48</td>\n",
       "      <td>No</td>\n",
       "    </tr>\n",
       "    <tr>\n",
       "      <th>9712</th>\n",
       "      <td>SSI</td>\n",
       "      <td>Airlines</td>\n",
       "      <td>Online</td>\n",
       "      <td>Ticket Protector</td>\n",
       "      <td>4815.0</td>\n",
       "      <td>SINGAPORE</td>\n",
       "      <td>0.32</td>\n",
       "      <td>0.09</td>\n",
       "      <td>48</td>\n",
       "      <td>No</td>\n",
       "    </tr>\n",
       "    <tr>\n",
       "      <th>11510</th>\n",
       "      <td>SSI</td>\n",
       "      <td>Airlines</td>\n",
       "      <td>Online</td>\n",
       "      <td>Ticket Protector</td>\n",
       "      <td>4652.0</td>\n",
       "      <td>SINGAPORE</td>\n",
       "      <td>0.32</td>\n",
       "      <td>0.09</td>\n",
       "      <td>48</td>\n",
       "      <td>No</td>\n",
       "    </tr>\n",
       "    <tr>\n",
       "      <th>18160</th>\n",
       "      <td>SSI</td>\n",
       "      <td>Airlines</td>\n",
       "      <td>Online</td>\n",
       "      <td>Ticket Protector</td>\n",
       "      <td>4881.0</td>\n",
       "      <td>SINGAPORE</td>\n",
       "      <td>0.13</td>\n",
       "      <td>0.04</td>\n",
       "      <td>48</td>\n",
       "      <td>No</td>\n",
       "    </tr>\n",
       "    <tr>\n",
       "      <th>18645</th>\n",
       "      <td>SSI</td>\n",
       "      <td>Airlines</td>\n",
       "      <td>Online</td>\n",
       "      <td>Ticket Protector</td>\n",
       "      <td>4844.0</td>\n",
       "      <td>SINGAPORE</td>\n",
       "      <td>0.32</td>\n",
       "      <td>0.09</td>\n",
       "      <td>48</td>\n",
       "      <td>No</td>\n",
       "    </tr>\n",
       "    <tr>\n",
       "      <th>19983</th>\n",
       "      <td>C2B</td>\n",
       "      <td>Airlines</td>\n",
       "      <td>Online</td>\n",
       "      <td>Annual Silver Plan</td>\n",
       "      <td>740.0</td>\n",
       "      <td>SINGAPORE</td>\n",
       "      <td>0.00</td>\n",
       "      <td>54.19</td>\n",
       "      <td>36</td>\n",
       "      <td>No</td>\n",
       "    </tr>\n",
       "    <tr>\n",
       "      <th>20550</th>\n",
       "      <td>SSI</td>\n",
       "      <td>Airlines</td>\n",
       "      <td>Online</td>\n",
       "      <td>Ticket Protector</td>\n",
       "      <td>4580.0</td>\n",
       "      <td>SINGAPORE</td>\n",
       "      <td>0.32</td>\n",
       "      <td>0.09</td>\n",
       "      <td>48</td>\n",
       "      <td>No</td>\n",
       "    </tr>\n",
       "    <tr>\n",
       "      <th>23479</th>\n",
       "      <td>SSI</td>\n",
       "      <td>Airlines</td>\n",
       "      <td>Online</td>\n",
       "      <td>Ticket Protector</td>\n",
       "      <td>4685.0</td>\n",
       "      <td>SINGAPORE</td>\n",
       "      <td>0.32</td>\n",
       "      <td>0.09</td>\n",
       "      <td>48</td>\n",
       "      <td>No</td>\n",
       "    </tr>\n",
       "    <tr>\n",
       "      <th>25589</th>\n",
       "      <td>SSI</td>\n",
       "      <td>Airlines</td>\n",
       "      <td>Online</td>\n",
       "      <td>Ticket Protector</td>\n",
       "      <td>4829.0</td>\n",
       "      <td>SINGAPORE</td>\n",
       "      <td>0.32</td>\n",
       "      <td>0.09</td>\n",
       "      <td>48</td>\n",
       "      <td>No</td>\n",
       "    </tr>\n",
       "    <tr>\n",
       "      <th>33402</th>\n",
       "      <td>SSI</td>\n",
       "      <td>Airlines</td>\n",
       "      <td>Online</td>\n",
       "      <td>Ticket Protector</td>\n",
       "      <td>4609.0</td>\n",
       "      <td>SINGAPORE</td>\n",
       "      <td>0.32</td>\n",
       "      <td>0.09</td>\n",
       "      <td>48</td>\n",
       "      <td>No</td>\n",
       "    </tr>\n",
       "    <tr>\n",
       "      <th>34501</th>\n",
       "      <td>SSI</td>\n",
       "      <td>Airlines</td>\n",
       "      <td>Online</td>\n",
       "      <td>Ticket Protector</td>\n",
       "      <td>4784.0</td>\n",
       "      <td>SINGAPORE</td>\n",
       "      <td>0.32</td>\n",
       "      <td>0.09</td>\n",
       "      <td>48</td>\n",
       "      <td>No</td>\n",
       "    </tr>\n",
       "    <tr>\n",
       "      <th>37871</th>\n",
       "      <td>SSI</td>\n",
       "      <td>Airlines</td>\n",
       "      <td>Online</td>\n",
       "      <td>Ticket Protector</td>\n",
       "      <td>4831.0</td>\n",
       "      <td>SINGAPORE</td>\n",
       "      <td>0.32</td>\n",
       "      <td>0.09</td>\n",
       "      <td>48</td>\n",
       "      <td>No</td>\n",
       "    </tr>\n",
       "    <tr>\n",
       "      <th>37982</th>\n",
       "      <td>SSI</td>\n",
       "      <td>Airlines</td>\n",
       "      <td>Online</td>\n",
       "      <td>Ticket Protector</td>\n",
       "      <td>4847.0</td>\n",
       "      <td>SINGAPORE</td>\n",
       "      <td>0.32</td>\n",
       "      <td>0.09</td>\n",
       "      <td>48</td>\n",
       "      <td>No</td>\n",
       "    </tr>\n",
       "  </tbody>\n",
       "</table>\n",
       "</div>"
      ],
      "text/plain": [
       "      Agency Agency Type Distribution Channel        Product Name  Duration  \\\n",
       "87       SSI    Airlines               Online    Ticket Protector    4736.0   \n",
       "4556     SSI    Airlines               Online    Ticket Protector    4857.0   \n",
       "9712     SSI    Airlines               Online    Ticket Protector    4815.0   \n",
       "11510    SSI    Airlines               Online    Ticket Protector    4652.0   \n",
       "18160    SSI    Airlines               Online    Ticket Protector    4881.0   \n",
       "18645    SSI    Airlines               Online    Ticket Protector    4844.0   \n",
       "19983    C2B    Airlines               Online  Annual Silver Plan     740.0   \n",
       "20550    SSI    Airlines               Online    Ticket Protector    4580.0   \n",
       "23479    SSI    Airlines               Online    Ticket Protector    4685.0   \n",
       "25589    SSI    Airlines               Online    Ticket Protector    4829.0   \n",
       "33402    SSI    Airlines               Online    Ticket Protector    4609.0   \n",
       "34501    SSI    Airlines               Online    Ticket Protector    4784.0   \n",
       "37871    SSI    Airlines               Online    Ticket Protector    4831.0   \n",
       "37982    SSI    Airlines               Online    Ticket Protector    4847.0   \n",
       "\n",
       "      Destination  Net Sales  Commision (in value)  Age Claim  \n",
       "87      SINGAPORE       0.32                  0.09   48    No  \n",
       "4556    SINGAPORE       0.32                  0.09   48    No  \n",
       "9712    SINGAPORE       0.32                  0.09   48    No  \n",
       "11510   SINGAPORE       0.32                  0.09   48    No  \n",
       "18160   SINGAPORE       0.13                  0.04   48    No  \n",
       "18645   SINGAPORE       0.32                  0.09   48    No  \n",
       "19983   SINGAPORE       0.00                 54.19   36    No  \n",
       "20550   SINGAPORE       0.32                  0.09   48    No  \n",
       "23479   SINGAPORE       0.32                  0.09   48    No  \n",
       "25589   SINGAPORE       0.32                  0.09   48    No  \n",
       "33402   SINGAPORE       0.32                  0.09   48    No  \n",
       "34501   SINGAPORE       0.32                  0.09   48    No  \n",
       "37871   SINGAPORE       0.32                  0.09   48    No  \n",
       "37982   SINGAPORE       0.32                  0.09   48    No  "
      ]
     },
     "execution_count": 22,
     "metadata": {},
     "output_type": "execute_result"
    }
   ],
   "source": [
    "dur_drop = df[df['Duration']>=700]\n",
    "dur_drop"
   ]
  },
  {
   "cell_type": "code",
   "execution_count": 23,
   "metadata": {
    "ExecuteTime": {
     "end_time": "2023-03-13T12:58:03.606965Z",
     "start_time": "2023-03-13T12:58:03.547746Z"
    }
   },
   "outputs": [
    {
     "name": "stdout",
     "output_type": "stream",
     "text": [
      "<class 'pandas.core.frame.DataFrame'>\n",
      "Int64Index: 38901 entries, 0 to 39323\n",
      "Data columns (total 10 columns):\n",
      " #   Column                Non-Null Count  Dtype  \n",
      "---  ------                --------------  -----  \n",
      " 0   Agency                38901 non-null  object \n",
      " 1   Agency Type           38901 non-null  object \n",
      " 2   Distribution Channel  38901 non-null  object \n",
      " 3   Product Name          38901 non-null  object \n",
      " 4   Duration              38901 non-null  float64\n",
      " 5   Destination           38901 non-null  object \n",
      " 6   Net Sales             38901 non-null  float64\n",
      " 7   Commision (in value)  38901 non-null  float64\n",
      " 8   Age                   38901 non-null  int64  \n",
      " 9   Claim                 38901 non-null  object \n",
      "dtypes: float64(3), int64(1), object(6)\n",
      "memory usage: 3.3+ MB\n"
     ]
    }
   ],
   "source": [
    "# Count and Datatype for each Column\n",
    "df.info()"
   ]
  },
  {
   "cell_type": "code",
   "execution_count": 24,
   "metadata": {
    "ExecuteTime": {
     "end_time": "2023-03-13T12:58:03.638878Z",
     "start_time": "2023-03-13T12:58:03.608928Z"
    }
   },
   "outputs": [
    {
     "data": {
      "text/html": [
       "<div>\n",
       "<style scoped>\n",
       "    .dataframe tbody tr th:only-of-type {\n",
       "        vertical-align: middle;\n",
       "    }\n",
       "\n",
       "    .dataframe tbody tr th {\n",
       "        vertical-align: top;\n",
       "    }\n",
       "\n",
       "    .dataframe thead th {\n",
       "        text-align: right;\n",
       "    }\n",
       "</style>\n",
       "<table border=\"1\" class=\"dataframe\">\n",
       "  <thead>\n",
       "    <tr style=\"text-align: right;\">\n",
       "      <th></th>\n",
       "      <th>Agency</th>\n",
       "      <th>Agency Type</th>\n",
       "      <th>Distribution Channel</th>\n",
       "      <th>Product Name</th>\n",
       "      <th>Duration</th>\n",
       "      <th>Destination</th>\n",
       "      <th>Net Sales</th>\n",
       "      <th>Commision (in value)</th>\n",
       "      <th>Age</th>\n",
       "      <th>Claim</th>\n",
       "    </tr>\n",
       "  </thead>\n",
       "  <tbody>\n",
       "    <tr>\n",
       "      <th>0</th>\n",
       "      <td>C2B</td>\n",
       "      <td>Airlines</td>\n",
       "      <td>Online</td>\n",
       "      <td>Annual Silver Plan</td>\n",
       "      <td>365.0</td>\n",
       "      <td>SINGAPORE</td>\n",
       "      <td>216.0</td>\n",
       "      <td>54.0</td>\n",
       "      <td>57</td>\n",
       "      <td>0</td>\n",
       "    </tr>\n",
       "    <tr>\n",
       "      <th>1</th>\n",
       "      <td>EPX</td>\n",
       "      <td>Travel Agency</td>\n",
       "      <td>Online</td>\n",
       "      <td>Cancellation Plan</td>\n",
       "      <td>4.0</td>\n",
       "      <td>MALAYSIA</td>\n",
       "      <td>10.0</td>\n",
       "      <td>0.0</td>\n",
       "      <td>33</td>\n",
       "      <td>0</td>\n",
       "    </tr>\n",
       "    <tr>\n",
       "      <th>2</th>\n",
       "      <td>JZI</td>\n",
       "      <td>Airlines</td>\n",
       "      <td>Online</td>\n",
       "      <td>Basic Plan</td>\n",
       "      <td>19.0</td>\n",
       "      <td>INDIA</td>\n",
       "      <td>22.0</td>\n",
       "      <td>7.7</td>\n",
       "      <td>26</td>\n",
       "      <td>0</td>\n",
       "    </tr>\n",
       "    <tr>\n",
       "      <th>3</th>\n",
       "      <td>EPX</td>\n",
       "      <td>Travel Agency</td>\n",
       "      <td>Online</td>\n",
       "      <td>2 way Comprehensive Plan</td>\n",
       "      <td>20.0</td>\n",
       "      <td>UNITED STATES</td>\n",
       "      <td>112.0</td>\n",
       "      <td>0.0</td>\n",
       "      <td>59</td>\n",
       "      <td>0</td>\n",
       "    </tr>\n",
       "    <tr>\n",
       "      <th>4</th>\n",
       "      <td>C2B</td>\n",
       "      <td>Airlines</td>\n",
       "      <td>Online</td>\n",
       "      <td>Bronze Plan</td>\n",
       "      <td>8.0</td>\n",
       "      <td>SINGAPORE</td>\n",
       "      <td>16.0</td>\n",
       "      <td>4.0</td>\n",
       "      <td>28</td>\n",
       "      <td>0</td>\n",
       "    </tr>\n",
       "  </tbody>\n",
       "</table>\n",
       "</div>"
      ],
      "text/plain": [
       "  Agency    Agency Type Distribution Channel              Product Name  \\\n",
       "0    C2B       Airlines               Online        Annual Silver Plan   \n",
       "1    EPX  Travel Agency               Online         Cancellation Plan   \n",
       "2    JZI       Airlines               Online                Basic Plan   \n",
       "3    EPX  Travel Agency               Online  2 way Comprehensive Plan   \n",
       "4    C2B       Airlines               Online               Bronze Plan   \n",
       "\n",
       "   Duration    Destination  Net Sales  Commision (in value)  Age  Claim  \n",
       "0     365.0      SINGAPORE      216.0                  54.0   57      0  \n",
       "1       4.0       MALAYSIA       10.0                   0.0   33      0  \n",
       "2      19.0          INDIA       22.0                   7.7   26      0  \n",
       "3      20.0  UNITED STATES      112.0                   0.0   59      0  \n",
       "4       8.0      SINGAPORE       16.0                   4.0   28      0  "
      ]
     },
     "execution_count": 24,
     "metadata": {},
     "output_type": "execute_result"
    }
   ],
   "source": [
    "# buat dictionary mapping\n",
    "mapping = {'No': 0, 'Yes': 1}\n",
    "\n",
    "# replace nilai kategorikal dengan numerik\n",
    "df['Claim'] = df['Claim'].replace(mapping)\n",
    "df.head()"
   ]
  },
  {
   "cell_type": "code",
   "execution_count": 27,
   "metadata": {
    "ExecuteTime": {
     "end_time": "2023-03-13T12:58:25.238397Z",
     "start_time": "2023-03-13T12:58:25.200473Z"
    }
   },
   "outputs": [
    {
     "data": {
      "text/plain": [
       "Agency                  0\n",
       "Agency Type             0\n",
       "Distribution Channel    0\n",
       "Product Name            0\n",
       "Duration                0\n",
       "Destination             0\n",
       "Net Sales               0\n",
       "Commision (in value)    0\n",
       "Age                     0\n",
       "Claim                   0\n",
       "dtype: int64"
      ]
     },
     "execution_count": 27,
     "metadata": {},
     "output_type": "execute_result"
    }
   ],
   "source": [
    "df.isna().sum()"
   ]
  },
  {
   "cell_type": "code",
   "execution_count": 28,
   "metadata": {
    "ExecuteTime": {
     "end_time": "2023-03-13T12:58:25.254352Z",
     "start_time": "2023-03-13T12:58:25.240390Z"
    }
   },
   "outputs": [
    {
     "data": {
      "text/plain": [
       "Claim\n",
       "0    0.9829\n",
       "1    0.0171\n",
       "dtype: float64"
      ]
     },
     "execution_count": 28,
     "metadata": {},
     "output_type": "execute_result"
    }
   ],
   "source": [
    "(df.groupby('Claim').size()/df.shape[0]).round(4)"
   ]
  },
  {
   "cell_type": "code",
   "execution_count": 29,
   "metadata": {
    "ExecuteTime": {
     "end_time": "2023-03-13T12:58:25.423899Z",
     "start_time": "2023-03-13T12:58:25.256347Z"
    }
   },
   "outputs": [
    {
     "data": {
      "image/png": "[encoded data removed]",
      "text/plain": [
       "<Figure size 640x480 with 1 Axes>"
      ]
     },
     "metadata": {},
     "output_type": "display_data"
    }
   ],
   "source": [
    "#  Status Claim\n",
    "claim = df.groupby(by=['Claim']).size().reset_index(name='counts')\n",
    "\n",
    "plt.bar(claim['Claim'], claim['counts'])\n",
    "plt.xlabel('Status Claim')\n",
    "plt.ylabel('Jumlah')\n",
    "plt.title('Pemegang Polis berdasarkan Status Claim')\n",
    "\n",
    "# Menambahkan keterangan angka pada setiap bar\n",
    "for i, count in enumerate(claim['counts']):\n",
    "    plt.text(i, count+0.1, str(count), ha='center', va='bottom')\n",
    "\n",
    "plt.show()"
   ]
  },
  {
   "cell_type": "code",
   "execution_count": 30,
   "metadata": {
    "ExecuteTime": {
     "end_time": "2023-03-13T12:58:25.501528Z",
     "start_time": "2023-03-13T12:58:25.427888Z"
    }
   },
   "outputs": [
    {
     "data": {
      "text/html": [
       "<div>\n",
       "<style scoped>\n",
       "    .dataframe tbody tr th:only-of-type {\n",
       "        vertical-align: middle;\n",
       "    }\n",
       "\n",
       "    .dataframe tbody tr th {\n",
       "        vertical-align: top;\n",
       "    }\n",
       "\n",
       "    .dataframe thead th {\n",
       "        text-align: right;\n",
       "    }\n",
       "</style>\n",
       "<table border=\"1\" class=\"dataframe\">\n",
       "  <thead>\n",
       "    <tr style=\"text-align: right;\">\n",
       "      <th></th>\n",
       "      <th>dataFeatures</th>\n",
       "      <th>dataType</th>\n",
       "      <th>null</th>\n",
       "      <th>nullPct</th>\n",
       "      <th>unique</th>\n",
       "      <th>uniqueSample</th>\n",
       "    </tr>\n",
       "  </thead>\n",
       "  <tbody>\n",
       "    <tr>\n",
       "      <th>0</th>\n",
       "      <td>Agency</td>\n",
       "      <td>object</td>\n",
       "      <td>0</td>\n",
       "      <td>0.0</td>\n",
       "      <td>15</td>\n",
       "      <td>[C2B, EPX, JZI, CWT, LWC, ART, CSR, SSI, RAB, ...</td>\n",
       "    </tr>\n",
       "    <tr>\n",
       "      <th>1</th>\n",
       "      <td>Agency Type</td>\n",
       "      <td>object</td>\n",
       "      <td>0</td>\n",
       "      <td>0.0</td>\n",
       "      <td>2</td>\n",
       "      <td>[Airlines, Travel Agency]</td>\n",
       "    </tr>\n",
       "    <tr>\n",
       "      <th>2</th>\n",
       "      <td>Distribution Channel</td>\n",
       "      <td>object</td>\n",
       "      <td>0</td>\n",
       "      <td>0.0</td>\n",
       "      <td>2</td>\n",
       "      <td>[Online, Offline]</td>\n",
       "    </tr>\n",
       "    <tr>\n",
       "      <th>3</th>\n",
       "      <td>Product Name</td>\n",
       "      <td>object</td>\n",
       "      <td>0</td>\n",
       "      <td>0.0</td>\n",
       "      <td>26</td>\n",
       "      <td>[Annual Silver Plan, Cancellation Plan, Basic ...</td>\n",
       "    </tr>\n",
       "    <tr>\n",
       "      <th>4</th>\n",
       "      <td>Duration</td>\n",
       "      <td>float64</td>\n",
       "      <td>0</td>\n",
       "      <td>0.0</td>\n",
       "      <td>436</td>\n",
       "      <td>[365.0, 4.0, 19.0, 20.0, 8.0, 2.0, 25.0, 90.0,...</td>\n",
       "    </tr>\n",
       "    <tr>\n",
       "      <th>5</th>\n",
       "      <td>Destination</td>\n",
       "      <td>object</td>\n",
       "      <td>0</td>\n",
       "      <td>0.0</td>\n",
       "      <td>136</td>\n",
       "      <td>[SINGAPORE, MALAYSIA, INDIA, UNITED STATES, KO...</td>\n",
       "    </tr>\n",
       "    <tr>\n",
       "      <th>6</th>\n",
       "      <td>Net Sales</td>\n",
       "      <td>float64</td>\n",
       "      <td>0</td>\n",
       "      <td>0.0</td>\n",
       "      <td>988</td>\n",
       "      <td>[216.0, 10.0, 22.0, 112.0, 16.0, 50.0, 78.0, 8...</td>\n",
       "    </tr>\n",
       "    <tr>\n",
       "      <th>7</th>\n",
       "      <td>Commision (in value)</td>\n",
       "      <td>float64</td>\n",
       "      <td>0</td>\n",
       "      <td>0.0</td>\n",
       "      <td>886</td>\n",
       "      <td>[54.0, 0.0, 7.7, 4.0, 9.1, 63.21, 10.5, 11.88,...</td>\n",
       "    </tr>\n",
       "    <tr>\n",
       "      <th>8</th>\n",
       "      <td>Age</td>\n",
       "      <td>int64</td>\n",
       "      <td>0</td>\n",
       "      <td>0.0</td>\n",
       "      <td>88</td>\n",
       "      <td>[57, 33, 26, 59, 28, 36, 22, 39, 27, 48, 43, 5...</td>\n",
       "    </tr>\n",
       "    <tr>\n",
       "      <th>9</th>\n",
       "      <td>Claim</td>\n",
       "      <td>int64</td>\n",
       "      <td>0</td>\n",
       "      <td>0.0</td>\n",
       "      <td>2</td>\n",
       "      <td>[0, 1]</td>\n",
       "    </tr>\n",
       "  </tbody>\n",
       "</table>\n",
       "</div>"
      ],
      "text/plain": [
       "           dataFeatures dataType  null  nullPct  unique  \\\n",
       "0                Agency   object     0      0.0      15   \n",
       "1           Agency Type   object     0      0.0       2   \n",
       "2  Distribution Channel   object     0      0.0       2   \n",
       "3          Product Name   object     0      0.0      26   \n",
       "4              Duration  float64     0      0.0     436   \n",
       "5           Destination   object     0      0.0     136   \n",
       "6             Net Sales  float64     0      0.0     988   \n",
       "7  Commision (in value)  float64     0      0.0     886   \n",
       "8                   Age    int64     0      0.0      88   \n",
       "9                 Claim    int64     0      0.0       2   \n",
       "\n",
       "                                        uniqueSample  \n",
       "0  [C2B, EPX, JZI, CWT, LWC, ART, CSR, SSI, RAB, ...  \n",
       "1                          [Airlines, Travel Agency]  \n",
       "2                                  [Online, Offline]  \n",
       "3  [Annual Silver Plan, Cancellation Plan, Basic ...  \n",
       "4  [365.0, 4.0, 19.0, 20.0, 8.0, 2.0, 25.0, 90.0,...  \n",
       "5  [SINGAPORE, MALAYSIA, INDIA, UNITED STATES, KO...  \n",
       "6  [216.0, 10.0, 22.0, 112.0, 16.0, 50.0, 78.0, 8...  \n",
       "7  [54.0, 0.0, 7.7, 4.0, 9.1, 63.21, 10.5, 11.88,...  \n",
       "8  [57, 33, 26, 59, 28, 36, 22, 39, 27, 48, 43, 5...  \n",
       "9                                             [0, 1]  "
      ]
     },
     "execution_count": 30,
     "metadata": {},
     "output_type": "execute_result"
    }
   ],
   "source": [
    "listItem = []\n",
    "for col in df.columns :\n",
    "    listItem.append([col, df[col].dtype, df[col].isna().sum(), round((df[col].isna().sum()/len(df[col])) * 100,2),\n",
    "                    df[col].nunique(), list(df[col].drop_duplicates().values)])\n",
    "\n",
    "dfDesc = pd.DataFrame(columns=['dataFeatures', 'dataType', 'null', 'nullPct', 'unique', 'uniqueSample'],\n",
    "                     data=listItem)\n",
    "dfDesc"
   ]
  },
  {
   "cell_type": "markdown",
   "metadata": {},
   "source": [
    "#### Remove Unused Data"
   ]
  },
  {
   "cell_type": "code",
   "execution_count": 31,
   "metadata": {
    "ExecuteTime": {
     "end_time": "2023-03-13T12:58:25.516492Z",
     "start_time": "2023-03-13T12:58:25.503522Z"
    }
   },
   "outputs": [],
   "source": [
    "def binningFunction(col,cut_points,labels=None):\n",
    "    minval = col.min()\n",
    "    maxval = col.max()\n",
    "    break_points = [minval] + cut_points + [maxval]\n",
    "    print(break_points)\n",
    "    if not labels:\n",
    "        labels = range(len(cut_points)+1)\n",
    "    colBin = pd.cut(col,bins = break_points,labels=labels, include_lowest = True)\n",
    "    return colBin"
   ]
  },
  {
   "cell_type": "code",
   "execution_count": 32,
   "metadata": {
    "ExecuteTime": {
     "end_time": "2023-03-13T12:58:25.547404Z",
     "start_time": "2023-03-13T12:58:25.518484Z"
    }
   },
   "outputs": [
    {
     "name": "stdout",
     "output_type": "stream",
     "text": [
      "[-357.5, 0, 150, 250, 350, 450, 682.0]\n"
     ]
    },
    {
     "data": {
      "text/html": [
       "<div>\n",
       "<style scoped>\n",
       "    .dataframe tbody tr th:only-of-type {\n",
       "        vertical-align: middle;\n",
       "    }\n",
       "\n",
       "    .dataframe tbody tr th {\n",
       "        vertical-align: top;\n",
       "    }\n",
       "\n",
       "    .dataframe thead th {\n",
       "        text-align: right;\n",
       "    }\n",
       "</style>\n",
       "<table border=\"1\" class=\"dataframe\">\n",
       "  <thead>\n",
       "    <tr style=\"text-align: right;\">\n",
       "      <th></th>\n",
       "      <th>Agency</th>\n",
       "      <th>Agency Type</th>\n",
       "      <th>Distribution Channel</th>\n",
       "      <th>Product Name</th>\n",
       "      <th>Duration</th>\n",
       "      <th>Destination</th>\n",
       "      <th>Net Sales</th>\n",
       "      <th>Commision (in value)</th>\n",
       "      <th>Age</th>\n",
       "      <th>Claim</th>\n",
       "      <th>NetSalesBin</th>\n",
       "    </tr>\n",
       "  </thead>\n",
       "  <tbody>\n",
       "    <tr>\n",
       "      <th>0</th>\n",
       "      <td>C2B</td>\n",
       "      <td>Airlines</td>\n",
       "      <td>Online</td>\n",
       "      <td>Annual Silver Plan</td>\n",
       "      <td>365.0</td>\n",
       "      <td>SINGAPORE</td>\n",
       "      <td>216.0</td>\n",
       "      <td>54.0</td>\n",
       "      <td>57</td>\n",
       "      <td>0</td>\n",
       "      <td>151-250</td>\n",
       "    </tr>\n",
       "    <tr>\n",
       "      <th>1</th>\n",
       "      <td>EPX</td>\n",
       "      <td>Travel Agency</td>\n",
       "      <td>Online</td>\n",
       "      <td>Cancellation Plan</td>\n",
       "      <td>4.0</td>\n",
       "      <td>MALAYSIA</td>\n",
       "      <td>10.0</td>\n",
       "      <td>0.0</td>\n",
       "      <td>33</td>\n",
       "      <td>0</td>\n",
       "      <td>1-150</td>\n",
       "    </tr>\n",
       "    <tr>\n",
       "      <th>2</th>\n",
       "      <td>JZI</td>\n",
       "      <td>Airlines</td>\n",
       "      <td>Online</td>\n",
       "      <td>Basic Plan</td>\n",
       "      <td>19.0</td>\n",
       "      <td>INDIA</td>\n",
       "      <td>22.0</td>\n",
       "      <td>7.7</td>\n",
       "      <td>26</td>\n",
       "      <td>0</td>\n",
       "      <td>1-150</td>\n",
       "    </tr>\n",
       "    <tr>\n",
       "      <th>3</th>\n",
       "      <td>EPX</td>\n",
       "      <td>Travel Agency</td>\n",
       "      <td>Online</td>\n",
       "      <td>2 way Comprehensive Plan</td>\n",
       "      <td>20.0</td>\n",
       "      <td>UNITED STATES</td>\n",
       "      <td>112.0</td>\n",
       "      <td>0.0</td>\n",
       "      <td>59</td>\n",
       "      <td>0</td>\n",
       "      <td>1-150</td>\n",
       "    </tr>\n",
       "    <tr>\n",
       "      <th>4</th>\n",
       "      <td>C2B</td>\n",
       "      <td>Airlines</td>\n",
       "      <td>Online</td>\n",
       "      <td>Bronze Plan</td>\n",
       "      <td>8.0</td>\n",
       "      <td>SINGAPORE</td>\n",
       "      <td>16.0</td>\n",
       "      <td>4.0</td>\n",
       "      <td>28</td>\n",
       "      <td>0</td>\n",
       "      <td>1-150</td>\n",
       "    </tr>\n",
       "  </tbody>\n",
       "</table>\n",
       "</div>"
      ],
      "text/plain": [
       "  Agency    Agency Type Distribution Channel              Product Name  \\\n",
       "0    C2B       Airlines               Online        Annual Silver Plan   \n",
       "1    EPX  Travel Agency               Online         Cancellation Plan   \n",
       "2    JZI       Airlines               Online                Basic Plan   \n",
       "3    EPX  Travel Agency               Online  2 way Comprehensive Plan   \n",
       "4    C2B       Airlines               Online               Bronze Plan   \n",
       "\n",
       "   Duration    Destination  Net Sales  Commision (in value)  Age  Claim  \\\n",
       "0     365.0      SINGAPORE      216.0                  54.0   57      0   \n",
       "1       4.0       MALAYSIA       10.0                   0.0   33      0   \n",
       "2      19.0          INDIA       22.0                   7.7   26      0   \n",
       "3      20.0  UNITED STATES      112.0                   0.0   59      0   \n",
       "4       8.0      SINGAPORE       16.0                   4.0   28      0   \n",
       "\n",
       "  NetSalesBin  \n",
       "0     151-250  \n",
       "1       1-150  \n",
       "2       1-150  \n",
       "3       1-150  \n",
       "4       1-150  "
      ]
     },
     "execution_count": 32,
     "metadata": {},
     "output_type": "execute_result"
    }
   ],
   "source": [
    "cut_points = [0,150,250,350,450]\n",
    "labels = ['<=0','1-150','151-250','251-350','351-450','>450']\n",
    "df['NetSalesBin']= binningFunction(df['Net Sales'],cut_points,labels)\n",
    "df.head()"
   ]
  },
  {
   "cell_type": "markdown",
   "metadata": {},
   "source": [
    "Sekarang mari kita melakukan fitur encoding untuk fitur2 categorical yang kita miliki.\n",
    "Yang akan kita lakukan adalah :\n",
    "\n",
    "1. Merubah fitur/kolom `Agency` menggunakan Binary Encoding, karena fitur ini memiliki unique data yang banyak dan tidak memiliki urutan/tidak ordinal, bila kita menggunakan One Hot Encoding akan terlalu banyak fitur baru yg terbuat, dan kalau kita menggunakan Ordinal/Label Encoding hasilnya dapat kurang cocok/kurang baik. Oleh karena itu kita akan mencoba menggunakan Binary Encoding saja.\n",
    "2. Merubah fitur/kolom `Agency Type` menggunakan One Hot Encoding, karena fitur ini tidak memiliki urutan/tidak ordinal, dan juga jumlah unique datanya hanya sedikit.\n",
    "3. Merubah fitur/kolom `Distribution Channel` menggunakan One Hot Encoding, karena fitur ini tidak memiliki urutan/tidak ordinal, dan juga jumlah unique datanya hanya sedikit.\n",
    "4. Merubah fitur/kolom `Product Name` menggunakan Binary Encoding, karena fitur ini memiliki unique data yang banyak dan tidak memiliki urutan/tidak ordinal, bila kita menggunakan One Hot Encoding akan terlalu banyak fitur baru yg terbuat, dan kalau kita menggunakan Ordinal/Label Encoding hasilnya dapat kurang cocok/kurang baik. Oleh karena itu kita akan mencoba menggunakan Binary Encoding saja.\n",
    "5. Merubah fitur/kolom `Destination` menggunakan Binary Encoding, karena fitur ini memiliki unique data yang banyak dan tidak memiliki urutan/tidak ordinal, bila kita menggunakan One Hot Encoding akan terlalu banyak fitur baru yg terbuat, dan kalau kita menggunakan Ordinal/Label Encoding hasilnya dapat kurang cocok/kurang baik. Oleh karena itu kita akan mencoba menggunakan Binary Encoding saja."
   ]
  },
  {
   "cell_type": "code",
   "execution_count": 33,
   "metadata": {
    "ExecuteTime": {
     "end_time": "2023-03-13T12:58:25.563364Z",
     "start_time": "2023-03-13T12:58:25.550397Z"
    }
   },
   "outputs": [],
   "source": [
    "transformer = ColumnTransformer([\n",
    "    ('onehot', OneHotEncoder(drop='first'), ['Agency Type','Distribution Channel','NetSalesBin']),\n",
    "    ('binary', ce.BinaryEncoder(), ['Agency','Product Name','Destination'])\n",
    "], remainder='passthrough')"
   ]
  },
  {
   "cell_type": "code",
   "execution_count": 34,
   "metadata": {
    "ExecuteTime": {
     "end_time": "2023-03-13T12:58:25.579322Z",
     "start_time": "2023-03-13T12:58:25.566354Z"
    }
   },
   "outputs": [],
   "source": [
    "x = df.drop(columns=['Claim','Net Sales'])\n",
    "y = df['Claim']"
   ]
  },
  {
   "cell_type": "code",
   "execution_count": 35,
   "metadata": {
    "ExecuteTime": {
     "end_time": "2023-03-13T12:58:25.611458Z",
     "start_time": "2023-03-13T12:58:25.581314Z"
    }
   },
   "outputs": [],
   "source": [
    "x_train,x_test,y_train,y_test=train_test_split(x,y,stratify=y,test_size=0.2,random_state=2023)"
   ]
  },
  {
   "cell_type": "code",
   "execution_count": 43,
   "metadata": {
    "ExecuteTime": {
     "end_time": "2023-03-13T13:01:03.737401Z",
     "start_time": "2023-03-13T13:01:03.724005Z"
    }
   },
   "outputs": [
    {
     "data": {
      "text/plain": [
       "((31120, 9), (7781, 9), (31120,), (7781,))"
      ]
     },
     "execution_count": 43,
     "metadata": {},
     "output_type": "execute_result"
    }
   ],
   "source": [
    "x_train.shape, x_test.shape, y_train.shape, y_test.shape"
   ]
  },
  {
   "cell_type": "code",
   "execution_count": 49,
   "metadata": {
    "ExecuteTime": {
     "end_time": "2023-03-13T13:19:16.918255Z",
     "start_time": "2023-03-13T13:19:16.892768Z"
    }
   },
   "outputs": [
    {
     "data": {
      "text/plain": [
       "0    30587\n",
       "1      533\n",
       "Name: Claim, dtype: int64"
      ]
     },
     "execution_count": 49,
     "metadata": {},
     "output_type": "execute_result"
    }
   ],
   "source": [
    "y_train.value_counts()"
   ]
  },
  {
   "cell_type": "markdown",
   "metadata": {},
   "source": [
    "## Modeling & Evaluation"
   ]
  },
  {
   "cell_type": "code",
   "execution_count": 45,
   "metadata": {
    "ExecuteTime": {
     "end_time": "2023-03-13T13:01:58.610444Z",
     "start_time": "2023-03-13T13:01:58.581440Z"
    }
   },
   "outputs": [],
   "source": [
    "logreg = LogisticRegression()\n",
    "knn = KNeighborsClassifier()\n",
    "dt = DecisionTreeClassifier()\n",
    "rf = RandomForestClassifier()\n",
    "xgb = XGBClassifier()"
   ]
  },
  {
   "cell_type": "code",
   "execution_count": 46,
   "metadata": {
    "ExecuteTime": {
     "end_time": "2023-03-13T13:14:42.262562Z",
     "start_time": "2023-03-13T13:14:42.240816Z"
    }
   },
   "outputs": [],
   "source": [
    "# library\n",
    "\n",
    "from sklearn.linear_model import LogisticRegression\n",
    "from sklearn.svm import SVC\n",
    "from sklearn.neighbors import KNeighborsClassifier\n",
    "from sklearn.ensemble import RandomForestClassifier\n",
    "from xgboost.sklearn import XGBClassifier\n",
    "\n",
    "from sklearn.model_selection import GridSearchCV, cross_val_score\n",
    "from imblearn.pipeline import Pipeline\n",
    "from sklearn.preprocessing import PolynomialFeatures\n",
    "from imblearn.over_sampling import SMOTE"
   ]
  },
  {
   "cell_type": "code",
   "execution_count": 52,
   "metadata": {
    "ExecuteTime": {
     "end_time": "2023-03-13T13:21:03.419133Z",
     "start_time": "2023-03-13T13:20:09.115139Z"
    }
   },
   "outputs": [
    {
     "data": {
      "text/html": [
       "<div>\n",
       "<style scoped>\n",
       "    .dataframe tbody tr th:only-of-type {\n",
       "        vertical-align: middle;\n",
       "    }\n",
       "\n",
       "    .dataframe tbody tr th {\n",
       "        vertical-align: top;\n",
       "    }\n",
       "\n",
       "    .dataframe thead th {\n",
       "        text-align: right;\n",
       "    }\n",
       "</style>\n",
       "<table border=\"1\" class=\"dataframe\">\n",
       "  <thead>\n",
       "    <tr style=\"text-align: right;\">\n",
       "      <th></th>\n",
       "      <th>algo</th>\n",
       "      <th>recall_mean</th>\n",
       "      <th>std</th>\n",
       "      <th>all_score</th>\n",
       "    </tr>\n",
       "  </thead>\n",
       "  <tbody>\n",
       "    <tr>\n",
       "      <th>0</th>\n",
       "      <td>LogisticRegression()</td>\n",
       "      <td>0.695927</td>\n",
       "      <td>0.039394</td>\n",
       "      <td>[0.6, 0.7, 0.7, 0.7, 0.7]</td>\n",
       "    </tr>\n",
       "    <tr>\n",
       "      <th>1</th>\n",
       "      <td>KNeighborsClassifier()</td>\n",
       "      <td>0.348916</td>\n",
       "      <td>0.077169</td>\n",
       "      <td>[0.3, 0.4, 0.4, 0.2, 0.4]</td>\n",
       "    </tr>\n",
       "    <tr>\n",
       "      <th>2</th>\n",
       "      <td>DecisionTreeClassifier()</td>\n",
       "      <td>0.118145</td>\n",
       "      <td>0.018019</td>\n",
       "      <td>[0.1, 0.1, 0.1, 0.1, 0.1]</td>\n",
       "    </tr>\n",
       "    <tr>\n",
       "      <th>3</th>\n",
       "      <td>RandomForestClassifier()</td>\n",
       "      <td>0.067554</td>\n",
       "      <td>0.023262</td>\n",
       "      <td>[0.1, 0.1, 0.1, 0.0, 0.1]</td>\n",
       "    </tr>\n",
       "    <tr>\n",
       "      <th>4</th>\n",
       "      <td>XGBClassifier(base_score=None, booster=None, c...</td>\n",
       "      <td>0.052513</td>\n",
       "      <td>0.009464</td>\n",
       "      <td>[0.1, 0.0, 0.1, 0.0, 0.1]</td>\n",
       "    </tr>\n",
       "  </tbody>\n",
       "</table>\n",
       "</div>"
      ],
      "text/plain": [
       "                                                algo  recall_mean       std  \\\n",
       "0                               LogisticRegression()     0.695927  0.039394   \n",
       "1                             KNeighborsClassifier()     0.348916  0.077169   \n",
       "2                           DecisionTreeClassifier()     0.118145  0.018019   \n",
       "3                           RandomForestClassifier()     0.067554  0.023262   \n",
       "4  XGBClassifier(base_score=None, booster=None, c...     0.052513  0.009464   \n",
       "\n",
       "                   all_score  \n",
       "0  [0.6, 0.7, 0.7, 0.7, 0.7]  \n",
       "1  [0.3, 0.4, 0.4, 0.2, 0.4]  \n",
       "2  [0.1, 0.1, 0.1, 0.1, 0.1]  \n",
       "3  [0.1, 0.1, 0.1, 0.0, 0.1]  \n",
       "4  [0.1, 0.0, 0.1, 0.0, 0.1]  "
      ]
     },
     "execution_count": 52,
     "metadata": {},
     "output_type": "execute_result"
    }
   ],
   "source": [
    "list_algo = [logreg, knn, dt, rf, xgb]\n",
    "list_score = []\n",
    "list_mean = []\n",
    "list_std = []\n",
    "\n",
    "for model in list_algo:\n",
    "    \n",
    "    # pipeline berisi preprocessing dan modeling\n",
    "    pipe_model = Pipeline([\n",
    "        ('preprocessing', transformer),\n",
    "        ('resample', SMOTE()),\n",
    "        ('modeling', model)\n",
    "    ])\n",
    "\n",
    "    cv_score = cross_val_score(\n",
    "        estimator= pipe_model,\n",
    "        X= x_train,\n",
    "        y= y_train,\n",
    "        cv= 5,\n",
    "        scoring='recall' # recall\n",
    "    )\n",
    "\n",
    "    list_score.append(cv_score.round(1))\n",
    "    list_mean.append(cv_score.mean())\n",
    "    list_std.append(cv_score.std())\n",
    "\n",
    "df_cv = pd.DataFrame({\n",
    "    'algo': [str(x) for x in list_algo],\n",
    "    'recall_mean': list_mean,\n",
    "    'std': list_std,\n",
    "    'all_score': list_score\n",
    "})\n",
    "\n",
    "df_cv"
   ]
  },
  {
   "cell_type": "markdown",
   "metadata": {},
   "source": [
    "# Hyperparameter"
   ]
  },
  {
   "cell_type": "code",
   "execution_count": 53,
   "metadata": {
    "ExecuteTime": {
     "end_time": "2023-03-13T13:28:00.067673Z",
     "start_time": "2023-03-13T13:28:00.045730Z"
    }
   },
   "outputs": [
    {
     "data": {
      "text/plain": [
       "{'algo__fit_intercept': [True, False],\n",
       " 'algo__C': array([1.e-03, 1.e-02, 1.e-01, 1.e+00, 1.e+01, 1.e+02, 1.e+03])}"
      ]
     },
     "execution_count": 53,
     "metadata": {},
     "output_type": "execute_result"
    }
   ],
   "source": [
    "from jcopml.tuning import grid_search_params as gsp\n",
    "gsp.logreg_params"
   ]
  },
  {
   "cell_type": "code",
   "execution_count": 64,
   "metadata": {
    "ExecuteTime": {
     "end_time": "2023-03-13T13:53:39.044633Z",
     "start_time": "2023-03-13T13:53:39.028619Z"
    }
   },
   "outputs": [],
   "source": [
    "# parameter\n",
    "params = {'algo__fit_intercept': [True, False],\n",
    " 'algo__C': [0.001, 0.01, 0.1, 1, 10, 100]}"
   ]
  },
  {
   "cell_type": "code",
   "execution_count": 65,
   "metadata": {
    "ExecuteTime": {
     "end_time": "2023-03-13T13:53:53.974208Z",
     "start_time": "2023-03-13T13:53:40.625335Z"
    }
   },
   "outputs": [
    {
     "name": "stdout",
     "output_type": "stream",
     "text": [
      "Fitting 5 folds for each of 12 candidates, totalling 60 fits\n",
      "0.7053253394463058\n"
     ]
    }
   ],
   "source": [
    "# create pipeline\n",
    "pipe_model = Pipeline([\n",
    "        ('preprocessing', transformer),\n",
    "        ('resample', SMOTE()),\n",
    "        ('algo', logreg)\n",
    "    ])\n",
    "\n",
    "# Use GridSearchCV to find the best hyperparameters\n",
    "gridsearch_logreg = GridSearchCV(pipe_model, params, cv=5, n_jobs=-1, scoring='recall', verbose=3)\n",
    "\n",
    "\n",
    "\n",
    "# Fit the random search model\n",
    "gridsearch_logreg.fit(x_train, y_train)\n",
    "\n",
    "\n",
    "# Print the best hyperparameters\n",
    "print(gridsearch_logreg.best_score_)"
   ]
  },
  {
   "cell_type": "code",
   "execution_count": 66,
   "metadata": {
    "ExecuteTime": {
     "end_time": "2023-03-13T13:53:56.205371Z",
     "start_time": "2023-03-13T13:53:56.183991Z"
    }
   },
   "outputs": [
    {
     "data": {
      "text/plain": [
       "{'algo__C': 10, 'algo__fit_intercept': True}"
      ]
     },
     "execution_count": 66,
     "metadata": {},
     "output_type": "execute_result"
    }
   ],
   "source": [
    "gridsearch_logreg.best_params_"
   ]
  },
  {
   "cell_type": "code",
   "execution_count": 67,
   "metadata": {
    "ExecuteTime": {
     "end_time": "2023-03-13T13:54:00.306774Z",
     "start_time": "2023-03-13T13:54:00.298403Z"
    }
   },
   "outputs": [],
   "source": [
    "model_logreg_damar = gridsearch_logreg.best_estimator_"
   ]
  },
  {
   "cell_type": "markdown",
   "metadata": {},
   "source": [
    "# Evaluation Matrix and Analisis"
   ]
  },
  {
   "cell_type": "code",
   "execution_count": 68,
   "metadata": {
    "ExecuteTime": {
     "end_time": "2023-03-13T13:54:05.469426Z",
     "start_time": "2023-03-13T13:54:05.369695Z"
    }
   },
   "outputs": [
    {
     "name": "stdout",
     "output_type": "stream",
     "text": [
      "              precision    recall  f1-score   support\n",
      "\n",
      "           0       0.99      0.80      0.89      7648\n",
      "           1       0.05      0.64      0.10       133\n",
      "\n",
      "    accuracy                           0.80      7781\n",
      "   macro avg       0.52      0.72      0.49      7781\n",
      "weighted avg       0.98      0.80      0.87      7781\n",
      "\n"
     ]
    }
   ],
   "source": [
    "from sklearn.metrics import recall_score\n",
    "\n",
    "y_pred_fmodel = model_logreg_damar.predict(x_test)\n",
    "print(classification_report(y_test,y_pred_fmodel))"
   ]
  },
  {
   "cell_type": "markdown",
   "metadata": {},
   "source": [
    "Model overfitting karena data untuk prediksi nilai positive kurang"
   ]
  },
  {
   "cell_type": "code",
   "execution_count": 71,
   "metadata": {
    "ExecuteTime": {
     "end_time": "2023-03-13T13:55:06.457646Z",
     "start_time": "2023-03-13T13:55:06.449867Z"
    }
   },
   "outputs": [
    {
     "data": {
      "text/plain": [
       "0    38235\n",
       "1      666\n",
       "Name: Claim, dtype: int64"
      ]
     },
     "execution_count": 71,
     "metadata": {},
     "output_type": "execute_result"
    }
   ],
   "source": [
    "df['Claim'].value_counts()"
   ]
  },
  {
   "cell_type": "markdown",
   "metadata": {},
   "source": [
    "Diatas bukti datanya sangat imbalance, sehingga apabila dilakukan oversampling technique model akan overfitting"
   ]
  },
  {
   "cell_type": "markdown",
   "metadata": {},
   "source": [
    "# feature importances"
   ]
  },
  {
   "cell_type": "code",
   "execution_count": 72,
   "metadata": {
    "ExecuteTime": {
     "end_time": "2023-03-13T14:01:19.879823Z",
     "start_time": "2023-03-13T14:01:16.079121Z"
    }
   },
   "outputs": [
    {
     "data": {
      "text/html": [
       "<div>\n",
       "<style scoped>\n",
       "    .dataframe tbody tr th:only-of-type {\n",
       "        vertical-align: middle;\n",
       "    }\n",
       "\n",
       "    .dataframe tbody tr th {\n",
       "        vertical-align: top;\n",
       "    }\n",
       "\n",
       "    .dataframe thead th {\n",
       "        text-align: right;\n",
       "    }\n",
       "</style>\n",
       "<table border=\"1\" class=\"dataframe\">\n",
       "  <thead>\n",
       "    <tr style=\"text-align: right;\">\n",
       "      <th></th>\n",
       "      <th>feature</th>\n",
       "      <th>importance</th>\n",
       "      <th>stdev</th>\n",
       "    </tr>\n",
       "  </thead>\n",
       "  <tbody>\n",
       "    <tr>\n",
       "      <th>3</th>\n",
       "      <td>Product Name</td>\n",
       "      <td>0.045572</td>\n",
       "      <td>0.001405</td>\n",
       "    </tr>\n",
       "    <tr>\n",
       "      <th>0</th>\n",
       "      <td>Agency</td>\n",
       "      <td>0.040418</td>\n",
       "      <td>0.001306</td>\n",
       "    </tr>\n",
       "    <tr>\n",
       "      <th>1</th>\n",
       "      <td>Agency Type</td>\n",
       "      <td>0.034544</td>\n",
       "      <td>0.000491</td>\n",
       "    </tr>\n",
       "    <tr>\n",
       "      <th>5</th>\n",
       "      <td>Destination</td>\n",
       "      <td>0.013213</td>\n",
       "      <td>0.000694</td>\n",
       "    </tr>\n",
       "    <tr>\n",
       "      <th>7</th>\n",
       "      <td>Age</td>\n",
       "      <td>0.008136</td>\n",
       "      <td>0.000806</td>\n",
       "    </tr>\n",
       "    <tr>\n",
       "      <th>4</th>\n",
       "      <td>Duration</td>\n",
       "      <td>0.004955</td>\n",
       "      <td>0.000560</td>\n",
       "    </tr>\n",
       "    <tr>\n",
       "      <th>6</th>\n",
       "      <td>Commision (in value)</td>\n",
       "      <td>0.002577</td>\n",
       "      <td>0.000454</td>\n",
       "    </tr>\n",
       "    <tr>\n",
       "      <th>2</th>\n",
       "      <td>Distribution Channel</td>\n",
       "      <td>0.000720</td>\n",
       "      <td>0.000120</td>\n",
       "    </tr>\n",
       "    <tr>\n",
       "      <th>8</th>\n",
       "      <td>NetSalesBin</td>\n",
       "      <td>-0.000129</td>\n",
       "      <td>0.000510</td>\n",
       "    </tr>\n",
       "  </tbody>\n",
       "</table>\n",
       "</div>"
      ],
      "text/plain": [
       "                feature  importance     stdev\n",
       "3          Product Name    0.045572  0.001405\n",
       "0                Agency    0.040418  0.001306\n",
       "1           Agency Type    0.034544  0.000491\n",
       "5           Destination    0.013213  0.000694\n",
       "7                   Age    0.008136  0.000806\n",
       "4              Duration    0.004955  0.000560\n",
       "6  Commision (in value)    0.002577  0.000454\n",
       "2  Distribution Channel    0.000720  0.000120\n",
       "8           NetSalesBin   -0.000129  0.000510"
      ]
     },
     "execution_count": 72,
     "metadata": {},
     "output_type": "execute_result"
    },
    {
     "data": {
      "image/png": "[encoded data removed]",
      "text/plain": [
       "<Figure size 1500x500 with 1 Axes>"
      ]
     },
     "metadata": {},
     "output_type": "display_data"
    }
   ],
   "source": [
    "from jcopml.feature_importance import mean_score_decrease\n",
    "\n",
    "mean_score_decrease(x_train, y_train, model_logreg_damar, plot=True)"
   ]
  },
  {
   "cell_type": "markdown",
   "metadata": {},
   "source": [
    " Terlihat bahwa feature yang paling berpengaruh dalam pengambilan keputusan claim atau tidak adalah Product Name, lalu Agency dan Agency Type. Perlu diperhatikan bahwa fitur-fitur ini sangat mempengaruhi performa model dalam mempelajari explanatory variable untuk memprediksi response variable sehingga nantinya perlu dianalisis lebih lanjut ke fitur-fitur tersebut."
   ]
  },
  {
   "cell_type": "markdown",
   "metadata": {},
   "source": [
    "# Kesimpulan\n",
    "* Data Target sangat tidak balance\n",
    "* Model menjadi overfitting (score dari benchmark model = 0.704 menjadi 0.64 setelah hyperparameter tuning)\n",
    "* Dari recall dapat dianalisis bahwa model kita masih beresiko untuk perusahaan untuk membayar kerugian atas claim client karena performance model dan dataset masih terbilang kurang memenuhi. \n"
   ]
  },
  {
   "cell_type": "markdown",
   "metadata": {},
   "source": [
    "# Rekomendasi"
   ]
  },
  {
   "cell_type": "markdown",
   "metadata": {},
   "source": [
    "Diperlukan data yang lebih untuk nilai positif target agar membuat target variabel lebih balance sehingga membantu model lebih robust. Recall terlihat dari score 0.705 menjadi 0.64 berarti adanya overfitting didalam model yang diakibatkan karena kekurangan data yang sangat banyak untuk nilai positif target (1 = 1.7% dari total target)."
   ]
  }
 ],
 "metadata": {
  "kernelspec": {
   "display_name": "Python 3 (ipykernel)",
   "language": "python",
   "name": "python3"
  },
  "language_info": {
   "codemirror_mode": {
    "name": "ipython",
    "version": 3
   },
   "file_extension": ".py",
   "mimetype": "text/x-python",
   "name": "python",
   "nbconvert_exporter": "python",
   "pygments_lexer": "ipython3",
   "version": "3.9.16"
  },
  "toc": {
   "base_numbering": 1,
   "nav_menu": {},
   "number_sections": true,
   "sideBar": true,
   "skip_h1_title": false,
   "title_cell": "Table of Contents",
   "title_sidebar": "Contents",
   "toc_cell": false,
   "toc_position": {},
   "toc_section_display": true,
   "toc_window_display": false
  },
  "vscode": {
   "interpreter": {
    "hash": "afb734500600fd355917ca529030176ea0ca205570884b88f2f6f7d791fd3fbe"
   }
  }
 },
 "nbformat": 4,
 "nbformat_minor": 2
}
